{
  "nbformat": 4,
  "nbformat_minor": 0,
  "metadata": {
    "colab": {
      "name": "BaitapList.ipynb",
      "provenance": [],
      "authorship_tag": "ABX9TyMGJ/ykXLZh6pMASMB1yKaM",
      "include_colab_link": true
    },
    "kernelspec": {
      "name": "python3",
      "display_name": "Python 3"
    },
    "language_info": {
      "name": "python"
    }
  },
  "cells": [
    {
      "cell_type": "markdown",
      "metadata": {
        "id": "view-in-github",
        "colab_type": "text"
      },
      "source": [
        "<a href=\"https://colab.research.google.com/github/RifleB-1311/Baitap1-nhom2/blob/main/BaitapList.ipynb\" target=\"_parent\"><img src=\"https://colab.research.google.com/assets/colab-badge.svg\" alt=\"Open In Colab\"/></a>"
      ]
    },
    {
      "cell_type": "markdown",
      "metadata": {
        "id": "hBuJQKFFukgl"
      },
      "source": [
        "1. Write a Python program to sum all the items in a list. (sum() function)"
      ]
    },
    {
      "cell_type": "code",
      "metadata": {
        "colab": {
          "base_uri": "https://localhost:8080/"
        },
        "id": "Ea_ArRTiufup",
        "outputId": "caa469ea-1205-4a55-c7c6-e8a1bd620999"
      },
      "source": [
        "lst=[1,2,3,4,5]\n",
        "tong=sum(lst)\n",
        "print(\"Tổng của các phần tử trong lst là:\",tong)"
      ],
      "execution_count": 2,
      "outputs": [
        {
          "output_type": "stream",
          "name": "stdout",
          "text": [
            "Tổng của các phần tử trong lst là: 15\n"
          ]
        }
      ]
    },
    {
      "cell_type": "markdown",
      "metadata": {
        "id": "iXwwVCO1u0Rv"
      },
      "source": [
        "2. Write a Python program to multiply all the items in a list. (math.prod() function)"
      ]
    },
    {
      "cell_type": "code",
      "metadata": {
        "colab": {
          "base_uri": "https://localhost:8080/"
        },
        "id": "n3ZaWfyKu2AM",
        "outputId": "1c1a371d-23d7-4aa7-c046-dde19b166429"
      },
      "source": [
        "import numpy\n",
        "lst=[1,2,3,4,5]\n",
        "tich= numpy.prod(lst)\n",
        "print(tich)"
      ],
      "execution_count": 35,
      "outputs": [
        {
          "output_type": "stream",
          "name": "stdout",
          "text": [
            "120\n"
          ]
        }
      ]
    },
    {
      "cell_type": "markdown",
      "metadata": {
        "id": "pW_rNsVvvUWt"
      },
      "source": [
        "3. Write a Python program to get the largest number from a list. (max() function)"
      ]
    },
    {
      "cell_type": "code",
      "metadata": {
        "colab": {
          "base_uri": "https://localhost:8080/"
        },
        "id": "DeAf-tCnvWrl",
        "outputId": "afa8bdd0-d098-4eda-b59e-f0d8aef3771b"
      },
      "source": [
        "lst=[1,2,3,4,5]\n",
        "gtln=max(lst)\n",
        "print(\"Giá trị lớn nhất của lst là:\",gtln)"
      ],
      "execution_count": 4,
      "outputs": [
        {
          "output_type": "stream",
          "name": "stdout",
          "text": [
            "Giá trị lớn nhất của lst là: 5\n"
          ]
        }
      ]
    },
    {
      "cell_type": "markdown",
      "metadata": {
        "id": "u0RAgqy9vgKN"
      },
      "source": [
        "4. Write a Python program to get the smallest number from a list. (min() function)"
      ]
    },
    {
      "cell_type": "code",
      "metadata": {
        "colab": {
          "base_uri": "https://localhost:8080/"
        },
        "id": "sOXSwRDOvhpP",
        "outputId": "e72e1c68-d7e7-4fd9-f31e-a25cab45fcfc"
      },
      "source": [
        "lst=[1,2,3,4,5]\n",
        "gtnn=min(lst)\n",
        "print(\"Giá trị nhỏ nhất của lst là:\",gtnn)"
      ],
      "execution_count": 5,
      "outputs": [
        {
          "output_type": "stream",
          "name": "stdout",
          "text": [
            "Giá trị nhỏ nhất của lst là: 1\n"
          ]
        }
      ]
    },
    {
      "cell_type": "markdown",
      "metadata": {
        "id": "Sl2GaOGsvnRe"
      },
      "source": [
        "5. Write a Python program to sort a list in descending order (sort() function)"
      ]
    },
    {
      "cell_type": "code",
      "metadata": {
        "colab": {
          "base_uri": "https://localhost:8080/"
        },
        "id": "bkLW27ytvo6u",
        "outputId": "b988d425-9376-4fc2-eab4-9dcc6ea0e48f"
      },
      "source": [
        "lst=[1,2,4,3,5]\n",
        "giamdan=sorted ( lst, reverse = True )\n",
        "print(giamdan)"
      ],
      "execution_count": 12,
      "outputs": [
        {
          "output_type": "stream",
          "name": "stdout",
          "text": [
            "[5, 4, 3, 2, 1]\n"
          ]
        }
      ]
    },
    {
      "cell_type": "markdown",
      "metadata": {
        "id": "t0CXJktjwcKG"
      },
      "source": [
        "6. Write a Python program to sort a list in ascending order (sort() function)"
      ]
    },
    {
      "cell_type": "code",
      "metadata": {
        "colab": {
          "base_uri": "https://localhost:8080/"
        },
        "id": "GuE939_JwcQ1",
        "outputId": "b1b607ea-b596-4a93-f51f-9687eb15c128"
      },
      "source": [
        "lst=[1,2,4,3,5]\n",
        "tangdan=sorted(lst,reverse=False)\n",
        "print(tangdan)"
      ],
      "execution_count": 31,
      "outputs": [
        {
          "output_type": "stream",
          "name": "stdout",
          "text": [
            "[1, 2, 3, 4, 5]\n"
          ]
        }
      ]
    },
    {
      "cell_type": "markdown",
      "metadata": {
        "id": "WDzsTSzNw4hG"
      },
      "source": [
        "7. Write a Python program to get the size of a list (len() function)"
      ]
    },
    {
      "cell_type": "code",
      "metadata": {
        "colab": {
          "base_uri": "https://localhost:8080/"
        },
        "id": "MU5rYKLPw6S9",
        "outputId": "91a72b3c-cb86-40a2-8269-93a3f4c8c7d6"
      },
      "source": [
        "lst=[1,2,3,'Bách']\n",
        "print(\"Độ dài của lst là:\",len(lst))"
      ],
      "execution_count": 14,
      "outputs": [
        {
          "output_type": "stream",
          "name": "stdout",
          "text": [
            "Độ dài của lst là: 4\n"
          ]
        }
      ]
    },
    {
      "cell_type": "markdown",
      "metadata": {
        "id": "J88bc-zaxB4V"
      },
      "source": [
        "8. Write a Python program to get random element(s) of a list (random.choice() function)"
      ]
    },
    {
      "cell_type": "code",
      "metadata": {
        "colab": {
          "base_uri": "https://localhost:8080/"
        },
        "id": "4DAU4ZonxFQ1",
        "outputId": "b1071ece-0124-456b-eda9-8e7fe7e4cb88"
      },
      "source": [
        "import random\n",
        "lst=[1,2,3,4,5,6]\n",
        "ngaunhien=random.choice(lst)\n",
        "print(ngaunhien)"
      ],
      "execution_count": 24,
      "outputs": [
        {
          "output_type": "stream",
          "name": "stdout",
          "text": [
            "6\n"
          ]
        }
      ]
    },
    {
      "cell_type": "markdown",
      "metadata": {
        "id": "RTvMC04eyCQF"
      },
      "source": [
        "9. Write a Python program to join two different lists into one (use + or extend() function)"
      ]
    },
    {
      "cell_type": "code",
      "metadata": {
        "colab": {
          "base_uri": "https://localhost:8080/"
        },
        "id": "dvLdVjtFyEeH",
        "outputId": "20b28a60-a752-4598-9b5c-acbdcc827958"
      },
      "source": [
        "lst1=[1,2,3]\n",
        "lst2=[4,5,6]\n",
        "lst1.extend(lst2)\n",
        "print(lst1)"
      ],
      "execution_count": 29,
      "outputs": [
        {
          "output_type": "stream",
          "name": "stdout",
          "text": [
            "[1, 2, 3, 4, 5, 6]\n"
          ]
        }
      ]
    }
  ]
}