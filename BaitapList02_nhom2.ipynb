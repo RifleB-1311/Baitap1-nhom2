{
  "nbformat": 4,
  "nbformat_minor": 0,
  "metadata": {
    "colab": {
      "name": "BaitapList02_nhom2.ipynb",
      "provenance": [],
      "authorship_tag": "ABX9TyMYqyKKA8YLICL5xUOF9Z81",
      "include_colab_link": true
    },
    "kernelspec": {
      "name": "python3",
      "display_name": "Python 3"
    },
    "language_info": {
      "name": "python"
    }
  },
  "cells": [
    {
      "cell_type": "markdown",
      "metadata": {
        "id": "view-in-github",
        "colab_type": "text"
      },
      "source": [
        "<a href=\"https://colab.research.google.com/github/RifleB-1311/Baitap1-nhom2/blob/main/BaitapList02_nhom2.ipynb\" target=\"_parent\"><img src=\"https://colab.research.google.com/assets/colab-badge.svg\" alt=\"Open In Colab\"/></a>"
      ]
    },
    {
      "cell_type": "code",
      "metadata": {
        "colab": {
          "base_uri": "https://localhost:8080/"
        },
        "id": "fjpU_aKjXocp",
        "outputId": "7c6f45f1-5b92-45d8-d65e-e56e80902b01"
      },
      "source": [
        "x=[]                                     #1) Tạo một biến x kiểu List rỗng\n",
        "\n",
        "x.append(18)                             #2) Thêm giá trị 18 vào x\n",
        "\n",
        "x.append(\"Huế\")                          #3) Thêm giá trị \"Huế\" vào x\n",
        "\n",
        "y = [12, 45, -1, -0.56, \"abc\"]           #4) Tạo 1 List y = [12, 45, -1, -0.56, \"abc\"]\n",
        "\n",
        "x.extend(y)                              #5) Thêm y vào x\n",
        "\n",
        "print(x)                                 #6) Xuất giá trị của x ra màn hình\n",
        "\n",
        "print(\"x[0]:\",x[0],\"và x[-1]:\",x[-1])    #7) In ra màn hình giá trị của phần tử cuối cùng và phần tử đầu tiên của x\n",
        "\n",
        "print(x[:5])                            #8) In ra màn hình giá trị của phần tử đầu tiên đến phần tử thứ 5 của x\n",
        "\n",
        "print(x[2:])                             #9) In ra màn hình giá trị của phần từ thứ 3 đến cuối cùng của x"
      ],
      "execution_count": 8,
      "outputs": [
        {
          "output_type": "stream",
          "name": "stdout",
          "text": [
            "[18, 'Huế', 12, 45, -1, -0.56, 'abc']\n",
            "x[0]: 18 và x[-1]: abc\n",
            "[18, 'Huế', 12, 45, -1]\n",
            "[12, 45, -1, -0.56, 'abc']\n"
          ]
        }
      ]
    }
  ]
}