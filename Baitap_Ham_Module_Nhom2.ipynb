{
  "nbformat": 4,
  "nbformat_minor": 0,
  "metadata": {
    "colab": {
      "name": "Baitap_Ham_Module_Nhom2.ipynb",
      "provenance": [],
      "authorship_tag": "ABX9TyOb8T25iU0kDL9pPL5aiu6a",
      "include_colab_link": true
    },
    "kernelspec": {
      "name": "python3",
      "display_name": "Python 3"
    },
    "language_info": {
      "name": "python"
    }
  },
  "cells": [
    {
      "cell_type": "markdown",
      "metadata": {
        "id": "view-in-github",
        "colab_type": "text"
      },
      "source": [
        "<a href=\"https://colab.research.google.com/github/RifleB-1311/Baitap1-nhom2/blob/main/Baitap_Ham_Module_Nhom2.ipynb\" target=\"_parent\"><img src=\"https://colab.research.google.com/assets/colab-badge.svg\" alt=\"Open In Colab\"/></a>"
      ]
    },
    {
      "cell_type": "markdown",
      "metadata": {
        "id": "8bgVaIixj10B"
      },
      "source": [
        "Bài 1: Hãy xây dựng một hàm thực hiện các yêu cầu sau:\n",
        "- Xuất ra màn hình câu thông báo: “Lập trình Java 2021”\n",
        "- Hàm không có giá trị trả về\n",
        "\n",
        "Từ chương trình chính, gọi thực hiện hàm này."
      ]
    },
    {
      "cell_type": "code",
      "metadata": {
        "colab": {
          "base_uri": "https://localhost:8080/"
        },
        "id": "OUeRXdD_jlqy",
        "outputId": "997fb937-c905-4b35-abd0-4959a4f1697d"
      },
      "source": [
        "def inramanhinh():\n",
        "  print(\"Lập trình Java 2021\")\n",
        "inramanhinh()"
      ],
      "execution_count": 1,
      "outputs": [
        {
          "output_type": "stream",
          "name": "stdout",
          "text": [
            "Lập trình Java 2021\n"
          ]
        }
      ]
    },
    {
      "cell_type": "markdown",
      "metadata": {
        "id": "q6_kDQ-AkPvq"
      },
      "source": [
        "Bài 2: Hãy xây dựng một hàm thực hiện các yêu cầu sau:\n",
        "- Nhận một tham số đầu vào là một chuỗi ký tự (kiểu String)\n",
        "- Xuất ra màn hình nội dung chuỗi được truyền vào từ tham số\n",
        "- Hàm không có giá trị trả về\n",
        "\n",
        "Từ chương trình chính gọi thực hiện hàm này."
      ]
    },
    {
      "cell_type": "code",
      "metadata": {
        "colab": {
          "base_uri": "https://localhost:8080/"
        },
        "id": "n727cfo2kSK1",
        "outputId": "e0a4eaaa-930b-4dcd-ba2d-8b7d4d148685"
      },
      "source": [
        "def kytu(thongdiep):\n",
        "  print(thongdiep)\n",
        "kytu(\"Chào thầy Cương\")"
      ],
      "execution_count": 11,
      "outputs": [
        {
          "output_type": "stream",
          "name": "stdout",
          "text": [
            "Chào thầy Cương\n"
          ]
        }
      ]
    },
    {
      "cell_type": "markdown",
      "metadata": {
        "id": "os1viI59lbJb"
      },
      "source": [
        "Bài 3: Hãy viết chương trình thực hiện các yêu cầu sau:\n",
        "- Nhập một số nguyên dương n từ bàn phím (kiểm tra nếu không đạt yêu cầu thì bắt nhập\n",
        "lại)\n",
        "- Nhập một thông điệp từ bàn phím\n",
        "- Gọi thực hiện hàm ở Bài 2 n lần với thông điệp được truyền làm tham số đầu vào của hàm."
      ]
    },
    {
      "cell_type": "code",
      "metadata": {
        "colab": {
          "base_uri": "https://localhost:8080/"
        },
        "id": "UHe51FQVlheB",
        "outputId": "9cec1107-54f6-46b2-9205-ceabdc831c08"
      },
      "source": [
        "def kytu(thongdiep,x):\n",
        "  for i in range(0,x):\n",
        "    print(thongdiep)\n",
        "n=int(input(\"Mời nhập số nguyên dương:\"))\n",
        "while n<=0:\n",
        "  print(\"Nhập sai, mời nhập lại, số bạn vừa nhập không phải số nguyên dương !!!\")\n",
        "  n=int(input(\"Mời nhập số nguyên dương:\"))\n",
        "mess=input(\"Hãy nhập thông điệp:\")\n",
        "kytu(mess,n)"
      ],
      "execution_count": 13,
      "outputs": [
        {
          "output_type": "stream",
          "name": "stdout",
          "text": [
            "Mời nhập số nguyên dương:5\n",
            "Hãy nhập thông điệp:Mai Văn Bách\n",
            "Mai Văn Bách\n",
            "Mai Văn Bách\n",
            "Mai Văn Bách\n",
            "Mai Văn Bách\n",
            "Mai Văn Bách\n"
          ]
        }
      ]
    },
    {
      "cell_type": "markdown",
      "metadata": {
        "id": "ZrDUFrSSm0I7"
      },
      "source": [
        "Bài 4: Hãy viết chương trình thực hiện các yêu cầu sau:\n",
        "- Xây dựng hàm giải phương trình bậc 1 (ax + b = 0), với hệ số a & b được truyền vào qua\n",
        "thông số của hàm.\n",
        "- Chương trình chính nhận các thông số a, b từ bàn phím\n",
        "- Chương trình chính gọi hàm giải phương trình bậc 1 nêu trên"
      ]
    },
    {
      "cell_type": "code",
      "metadata": {
        "colab": {
          "base_uri": "https://localhost:8080/"
        },
        "id": "V4Zqw47Vm70K",
        "outputId": "22e99374-f01a-47f1-f8e0-2c6b39f61880"
      },
      "source": [
        "def ptbac1():\n",
        "  print(\"Chúng ta cùng giải phương trình bậc 1: ax+b=0\")\n",
        "  a=float(input(\"Mời nhập hệ số đứng trước x:\"))\n",
        "  b=float(input(\"Mời nhập hệ số tự do:\"))\n",
        "  if a==0:\n",
        "    if b==0:\n",
        "      print(\"Phương trình vô số nghiệm.\")\n",
        "    else:\n",
        "      print(\"Phương trình vô nghiệm.\")\n",
        "  else:\n",
        "    print(\"Phương trình đã cho có nghiệm là:\",-b/a)\n",
        "ptbac1()"
      ],
      "execution_count": 77,
      "outputs": [
        {
          "output_type": "stream",
          "name": "stdout",
          "text": [
            "Chúng ta cùng giải phương trình bậc 1: ax+b=0\n",
            "Mời nhập hệ số đứng trước x:1\n",
            "Mời nhập hệ số tự do:2\n",
            "Phương trình đã cho có nghiệm là: -2.0\n"
          ]
        }
      ]
    },
    {
      "cell_type": "markdown",
      "metadata": {
        "id": "7_sX9FyLobh7"
      },
      "source": [
        "Bài 5: Hãy viết chương trình thực hiện các yêu cầu sau:\n",
        "- Xây dựng hàm giải phương trình bậc (ax2 + bx + c = 0), với hệ số a & b & c được truyền\n",
        "vào qua thông số của hàm.\n",
        "- Chương trình chính nhận các thông số a, b & c từ bàn phím\n",
        "- Chương trình chính gọi hàm giải phương trình bậc 2 nêu trên"
      ]
    },
    {
      "cell_type": "code",
      "metadata": {
        "colab": {
          "base_uri": "https://localhost:8080/"
        },
        "id": "oXXvg9P0omh7",
        "outputId": "d89327fc-2351-4972-c227-c607578b9fa1"
      },
      "source": [
        "def ptbac2():\n",
        "    import math\n",
        "    print(\"Chúng ta cùng giải phương trình bậc 2: ax^2+bx+c=0\")\n",
        "    a=float(input(\"Mời nhập hệ số đứng trước x^2:\"))\n",
        "    b=float(input(\"Mời nhập hệ số đứng trước x:\"))\n",
        "    c=float(input(\"Mời nhập hệ số tự do:\"))\n",
        "    if a==0:\n",
        "        if b==0:\n",
        "          if c==0:\n",
        "            print(\"Phương trình vô số nghiệm.\")\n",
        "          else:\n",
        "            print(\"Phương trình vô nghiệm.\")\n",
        "        else:\n",
        "          print(\"Phương trình đã cho có nghiệm là:\",-c/b)\n",
        "    else:\n",
        "      delta= (b*b)-(4*a*c)\n",
        "      if (delta>0):\n",
        "        x1 = (float)((-b + math.sqrt(delta)) / (2 * a));\n",
        "        x2 = (float)((-b - math.sqrt(delta)) / (2 * a));\n",
        "        print (\"Phương trình có 2 nghiệm là: x1 = \", x1, \" và x2 = \", x2);\n",
        "      elif (delta == 0):\n",
        "        x1 = (-b / (2 * a));\n",
        "        print(\"Phương trình có nghiệm kép: x1 = x2 = \", x1);\n",
        "      else:\n",
        "        print(\"Phương trình vô nghiệm!\");\n",
        "ptbac2()\n"
      ],
      "execution_count": 50,
      "outputs": [
        {
          "output_type": "stream",
          "name": "stdout",
          "text": [
            "Chúng ta cùng giải phương trình bậc 2: ax^2+bx+c=0\n",
            "Mời nhập hệ số đứng trước x^2:1\n",
            "Mời nhập hệ số đứng trước x:2\n",
            "Mời nhập hệ số tự do:3\n",
            "Phương trình vô nghiệm!\n"
          ]
        }
      ]
    },
    {
      "cell_type": "markdown",
      "metadata": {
        "id": "7Gk97xoAu531"
      },
      "source": [
        "Bài 6: Hãy viết chương trình thực hiện các yêu cầu sau:\n",
        "\n",
        "- Cho người dùng lựa chọn giải phương trình bậc 1 hay bậc 2 bằng cách nhập số (1 hay 2)\n",
        "từ bàn phím\n",
        "- Nếu người dùng chọn giải phương trình bậc 1, thì thực hiện các bước như Bài 4\n",
        "- Nếu người dùng chọn giải phương trình bậc 2, thì thực hiện các bước như Bài 5"
      ]
    },
    {
      "cell_type": "code",
      "metadata": {
        "colab": {
          "base_uri": "https://localhost:8080/"
        },
        "id": "A5bF5r-2u4_P",
        "outputId": "da9d2ea2-5c31-44a4-a43b-a763348ef7fb"
      },
      "source": [
        "x=int(input(\"Mời nhập 1 hoặc 2:\"))\n",
        "while (x!=1) and (x!=2):\n",
        "  print(\"Nhập sai, mời nhập lại, chỉ nhập 1 hoặc 2 !!!\")\n",
        "  x=int(input(\"Mời nhập 1 hoặc 2:\"))\n",
        "if x==1:\n",
        "    ptbac1()\n",
        "if x==2:\n",
        "    ptbac2()"
      ],
      "execution_count": 78,
      "outputs": [
        {
          "output_type": "stream",
          "name": "stdout",
          "text": [
            "Mời nhập 1 hoặc 2:1\n",
            "Chúng ta cùng giải phương trình bậc 1: ax+b=0\n",
            "Mời nhập hệ số đứng trước x:1\n",
            "Mời nhập hệ số tự do:2\n",
            "Phương trình đã cho có nghiệm là: -2.0\n"
          ]
        }
      ]
    },
    {
      "cell_type": "markdown",
      "metadata": {
        "id": "kUHiIazevQQm"
      },
      "source": [
        "Bài 7: Viết chương trình thực hiện các yêu cầu sau:\n",
        "- Thực hiện yêu cầu như bài 6\n",
        "- Sau khi thực hiện xong cho người dùng lựa chọn tiếp tục thực hiện lại hay kết thúc chương\n",
        "trình"
      ]
    },
    {
      "cell_type": "code",
      "metadata": {
        "colab": {
          "base_uri": "https://localhost:8080/"
        },
        "id": "tnG3Kwe1vQ62",
        "outputId": "82aa44e2-10a7-4be2-efe3-0df06b7365f5"
      },
      "source": [
        "\n",
        "check=\"Y\"\n",
        "while (check==\"Y\") or (check==\"y\"):\n",
        "  x=int(input(\"Mời nhập 1 hoặc 2:\"))\n",
        "  while (x!=1) and (x!=2):\n",
        "    print(\"Nhập sai, mời nhập lại, chỉ nhập 1 hoặc 2 !!!\")\n",
        "    x=int(input(\"Mời nhập 1 hoặc 2:\"))\n",
        "  if x==1:\n",
        "    ptbac1()\n",
        "  if x==2:\n",
        "    ptbac2()\n",
        "  check=input(\"Có tiếp tục thực hiện lại hay kết thúc?. Nhấn Y để tiếp tục, nhấn phím bất kì để dừng lại:\")\n"
      ],
      "execution_count": 65,
      "outputs": [
        {
          "name": "stdout",
          "output_type": "stream",
          "text": [
            "Mời nhập 1 hoặc 2:3\n",
            "Nhập sai, mời nhập lại, chỉ nhập 1 hoặc 2 !!!\n",
            "Mời nhập 1 hoặc 2:1\n",
            "Chúng ta cùng giải phương trình bậc 1: ax+b=0\n",
            "Mời nhập hệ số đứng trước x:1\n",
            "Mời nhập hệ số tự do:2\n",
            "Phương trình đã cho có nghiệm là: -2.0\n",
            "Có tiếp tục thực hiện lại hay kết thúc?. Nhấn Y để tiếp tục, nhấn phím bất kì để dừng lại:y\n",
            "Mời nhập 1 hoặc 2:2\n",
            "Chúng ta cùng giải phương trình bậc 2: ax^2+bx+c=0\n",
            "Mời nhập hệ số đứng trước x^2:1\n",
            "Mời nhập hệ số đứng trước x:2\n",
            "Mời nhập hệ số tự do:3\n",
            "Phương trình vô nghiệm!\n",
            "Có tiếp tục thực hiện lại hay kết thúc?. Nhấn Y để tiếp tục, nhấn phím bất kì để dừng lại:n\n"
          ]
        }
      ]
    }
  ]
}