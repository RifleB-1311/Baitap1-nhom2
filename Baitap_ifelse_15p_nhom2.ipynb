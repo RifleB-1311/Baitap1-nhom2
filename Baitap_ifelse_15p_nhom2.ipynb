{
  "nbformat": 4,
  "nbformat_minor": 0,
  "metadata": {
    "colab": {
      "name": "Baitap_ifelse_15p_nhom2.ipynb",
      "provenance": [],
      "authorship_tag": "ABX9TyPvx1llM1j8Fsf7JsMWdhY7",
      "include_colab_link": true
    },
    "kernelspec": {
      "name": "python3",
      "display_name": "Python 3"
    },
    "language_info": {
      "name": "python"
    }
  },
  "cells": [
    {
      "cell_type": "markdown",
      "metadata": {
        "id": "view-in-github",
        "colab_type": "text"
      },
      "source": [
        "<a href=\"https://colab.research.google.com/github/RifleB-1311/Baitap1-nhom2/blob/main/Baitap_ifelse_15p_nhom2.ipynb\" target=\"_parent\"><img src=\"https://colab.research.google.com/assets/colab-badge.svg\" alt=\"Open In Colab\"/></a>"
      ]
    },
    {
      "cell_type": "code",
      "metadata": {
        "colab": {
          "base_uri": "https://localhost:8080/"
        },
        "id": "BAqrF3vQpE-o",
        "outputId": "6e1b8479-e458-4cc4-eeaf-227ff3ad2ebc"
      },
      "source": [
        "dtb=float(input(\"Nhập điểm trung bình:\"))\n",
        "if (dtb>=0) and (dtb<5):\n",
        "  print(\"Yếu\")\n",
        "elif (dtb>=5) and (dtb<7):\n",
        "  print(\"Trung bình\")\n",
        "elif (dtb>=7) and (dtb<8):\n",
        "  print(\"Khá\")\n",
        "elif (dtb>=8) and (dtb<9):\n",
        "  print(\"Giỏi\")\n",
        "else:\n",
        "  print(\"Xuất sắc\")"
      ],
      "execution_count": 10,
      "outputs": [
        {
          "output_type": "stream",
          "name": "stdout",
          "text": [
            "Nhập điểm trung bình:10\n",
            "Xuất sắc\n"
          ]
        }
      ]
    }
  ]
}