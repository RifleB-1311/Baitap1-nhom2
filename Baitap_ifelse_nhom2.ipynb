{
  "nbformat": 4,
  "nbformat_minor": 0,
  "metadata": {
    "colab": {
      "name": "Baitap_ifelse_nhom2.ipynb",
      "provenance": [],
      "collapsed_sections": [],
      "authorship_tag": "ABX9TyNZTpN7Mh5ig4XuLNDYbgPi",
      "include_colab_link": true
    },
    "kernelspec": {
      "name": "python3",
      "display_name": "Python 3"
    },
    "language_info": {
      "name": "python"
    }
  },
  "cells": [
    {
      "cell_type": "markdown",
      "metadata": {
        "id": "view-in-github",
        "colab_type": "text"
      },
      "source": [
        "<a href=\"https://colab.research.google.com/github/RifleB-1311/Baitap1-nhom2/blob/main/Baitap_ifelse_nhom2.ipynb\" target=\"_parent\"><img src=\"https://colab.research.google.com/assets/colab-badge.svg\" alt=\"Open In Colab\"/></a>"
      ]
    },
    {
      "cell_type": "markdown",
      "metadata": {
        "id": "A-pPSsjfoW7n"
      },
      "source": [
        "1. Write a Python program to get a number from the user and print whether it is positive or negative"
      ]
    },
    {
      "cell_type": "code",
      "metadata": {
        "colab": {
          "base_uri": "https://localhost:8080/"
        },
        "id": "8PCoC0HtoaM-",
        "outputId": "51acbe6e-779d-4bd1-aa94-b972d3bc49ed"
      },
      "source": [
        "number=float(input(\"Mời nhập số:\"))\n",
        "if (number==0):\n",
        "  print(\"Zero\")\n",
        "elif (number<0):\n",
        "  print(\"Positive\")\n",
        "else:\n",
        "  print(\"Negative\")"
      ],
      "execution_count": null,
      "outputs": [
        {
          "output_type": "stream",
          "name": "stdout",
          "text": [
            "Mời nhập số:-1\n",
            "Positive\n"
          ]
        }
      ]
    },
    {
      "cell_type": "markdown",
      "metadata": {
        "id": "-DjSljwVp9RA"
      },
      "source": [
        "2. Take three numbers from the user and print the greatest number"
      ]
    },
    {
      "cell_type": "code",
      "metadata": {
        "colab": {
          "base_uri": "https://localhost:8080/"
        },
        "id": "_PGa5Vq_qDp3",
        "outputId": "9174b0fa-650f-4df3-a9af-2b155a6fb208"
      },
      "source": [
        "a=float(input(\"Mời nhập số đầu tiên:\"))\n",
        "b=float(input(\"Mời nhập số thứ hai:\"))\n",
        "c=float(input(\"Mời nhập số thứ ba:\"))\n",
        "solonnhat=a\n",
        "if solonnhat<b:\n",
        "  solonnhat=b\n",
        "if solonnhat<c:\n",
        "  solonnhat=c\n",
        "print(\"Số lớn nhất là:\",solonnhat)"
      ],
      "execution_count": 74,
      "outputs": [
        {
          "output_type": "stream",
          "name": "stdout",
          "text": [
            "Mời nhập số đầu tiên:1\n",
            "Mời nhập số thứ hai:3\n",
            "Mời nhập số thứ ba:2\n",
            "Số lớn nhất là: 3.0\n"
          ]
        }
      ]
    },
    {
      "cell_type": "markdown",
      "metadata": {
        "id": "wimBlOj6q_lv"
      },
      "source": [
        "3. Write a Python program that reads a floating-point number and prints \"zero\" if the number is\n",
        "zero. Otherwise, print \"positive\" or \"negative\". Add \"small\" if the absolute value of the number is\n",
        "less than 1, or \"large\" if it exceeds 1,000,000."
      ]
    },
    {
      "cell_type": "code",
      "metadata": {
        "colab": {
          "base_uri": "https://localhost:8080/"
        },
        "id": "AcXJF4LkrDHf",
        "outputId": "10d78dc0-acf6-4403-8cd1-5170409b1f23"
      },
      "source": [
        "number=float(input(\"Mời nhập số :\"))\n",
        "if (number>0):\n",
        "  if (number<1):\n",
        "    print(\"Small negative number\")\n",
        "  elif (number>1000000):\n",
        "    print(\"Large negative number\")\n",
        "  else:\n",
        "    print(\"Negative\")\n",
        "elif (number<0):\n",
        "  if abs(number)<1:\n",
        "    print(\"Small positive number\")\n",
        "  elif abs(number)> 1000000:\n",
        "    print(\"Large positive number\")\n",
        "  else:\n",
        "    print(\"Positive\")\n",
        "else:\n",
        "  print(\"Zero\")"
      ],
      "execution_count": 83,
      "outputs": [
        {
          "output_type": "stream",
          "name": "stdout",
          "text": [
            "Mời nhập số :100000000000\n",
            "Large negative num\n"
          ]
        }
      ]
    },
    {
      "cell_type": "markdown",
      "metadata": {
        "id": "feML9P1TuWZx"
      },
      "source": [
        "4. Write a Python program that keeps a number from the user and generates an integer between 1\n",
        "and 7 and displays the name of the weekday."
      ]
    },
    {
      "cell_type": "code",
      "metadata": {
        "colab": {
          "base_uri": "https://localhost:8080/"
        },
        "id": "vllQKAgeuagg",
        "outputId": "e93b763b-f1c8-44c1-b63e-b3bd68ab18c7"
      },
      "source": [
        "day=[\"Monday\",\"Tuesday\",\"Wenesday\",\"Thursday\",\"Friday\",\"Saturday\",\"Sunday\"]\n",
        "number=int(input(\"Mời chọn số từ 1 tới 7:\"))\n",
        "if (number in range(1,8)):\n",
        "  number=day[number-1]\n",
        "  print(number)\n",
        "else:\n",
        "  print(\"Lỗi\")\n"
      ],
      "execution_count": null,
      "outputs": [
        {
          "output_type": "stream",
          "name": "stdout",
          "text": [
            "Mời chọn số từ 1 tới 7:2\n",
            "Tuesday\n"
          ]
        }
      ]
    },
    {
      "cell_type": "markdown",
      "metadata": {
        "id": "Mf3qUmEsv4Pa"
      },
      "source": [
        "5. Write a Python program that reads in two floating-point numbers and tests whether they are the\n",
        "same up to three decimal places."
      ]
    },
    {
      "cell_type": "code",
      "metadata": {
        "colab": {
          "base_uri": "https://localhost:8080/"
        },
        "id": "etLKjt6ov7RS",
        "outputId": "59a344c2-94d7-4325-8812-c7341221cf97"
      },
      "source": [
        "a=float(input(\"Mời nhập số đầu tiên:\"))\n",
        "b=float(input(\"Mời nhập số thứ hai:\"))\n",
        "c=round(a,3)\n",
        "d=round(b,3)\n",
        "if (c>a):\n",
        "  c=c-0.001\n",
        "if (d>b):\n",
        "  d=d-0.001\n",
        "if (c==d):\n",
        "  print(\"2 số đó giống nhau\")\n",
        "else:\n",
        "  print(\"2 số đó khác nhau\")"
      ],
      "execution_count": null,
      "outputs": [
        {
          "output_type": "stream",
          "name": "stdout",
          "text": [
            "Mời nhập số đầu tiên:27.56789\n",
            "Mời nhập số thứ hai:27.567123\n",
            "2 số đó giống nhau\n"
          ]
        }
      ]
    }
  ]
}