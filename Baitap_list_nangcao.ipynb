{
  "nbformat": 4,
  "nbformat_minor": 0,
  "metadata": {
    "colab": {
      "name": "Baitap_list_nangcao.ipynb",
      "provenance": [],
      "authorship_tag": "ABX9TyMQEWsQkotr05U/dnAx30eF",
      "include_colab_link": true
    },
    "kernelspec": {
      "name": "python3",
      "display_name": "Python 3"
    },
    "language_info": {
      "name": "python"
    }
  },
  "cells": [
    {
      "cell_type": "markdown",
      "metadata": {
        "id": "view-in-github",
        "colab_type": "text"
      },
      "source": [
        "<a href=\"https://colab.research.google.com/github/RifleB-1311/Baitap1-nhom2/blob/main/Baitap_list_nangcao.ipynb\" target=\"_parent\"><img src=\"https://colab.research.google.com/assets/colab-badge.svg\" alt=\"Open In Colab\"/></a>"
      ]
    },
    {
      "cell_type": "markdown",
      "metadata": {
        "id": "5a752tyrkmE9"
      },
      "source": [
        "Bài 1: Viết chương trình thực hiện các yêu cầu sau:\n",
        "- Nhập vào 1 số nguyên dương N từ bàn phím\n",
        "- Hãy xây dựng 1 dictionary với các phần tử chỉ mục và giá trị có dạng (i: log(i)) với I đi từ\n",
        "0 tới N\n",
        "- Hiển thị dictionary trên ra màn hình"
      ]
    },
    {
      "cell_type": "code",
      "metadata": {
        "colab": {
          "base_uri": "https://localhost:8080/"
        },
        "id": "i5zBE3ZqkdBT",
        "outputId": "ce1b7f2e-52ca-46a6-ef28-8f9bdf95b785"
      },
      "source": [
        "import numpy\n",
        "n=int(input(\"Nhập số nguyên dương:\"))\n",
        "dict1={}\n",
        "while n<0:\n",
        "  print(\"Vui lòng nhập lại:\")\n",
        "  n=int(input(\"Nhập số nguyên dương\"))\n",
        "for i in range(0,n):\n",
        "  if i >0:\n",
        "    dict1[i]=numpy.log(i)\n",
        "print(dict1)\n"
      ],
      "execution_count": 33,
      "outputs": [
        {
          "output_type": "stream",
          "name": "stdout",
          "text": [
            "Nhập số nguyên dương:5\n",
            "{1: 0.0, 2: 0.6931471805599453, 3: 1.0986122886681098, 4: 1.3862943611198906}\n"
          ]
        }
      ]
    },
    {
      "cell_type": "markdown",
      "metadata": {
        "id": "7iqiUyoPpK4n"
      },
      "source": [
        "Bài 2: Viết chương trình thực hiện các yêu cầu sau:\n",
        "- Nhập vào từ bàn phím một chuỗi các giá trị (có thể là số nguyên, số thực hay các ký tự)\n",
        "cách nhau bởi dấu phẩy (“,”).\n",
        "- Chuyển chuỗi được nhập từ bàn phím thành một danh sách (list)\n",
        "- Hiển thị danh sách đó ra màn hình."
      ]
    },
    {
      "cell_type": "code",
      "metadata": {
        "colab": {
          "base_uri": "https://localhost:8080/"
        },
        "id": "8uaxPS9KppSI",
        "outputId": "55d2cb2b-54f4-4145-b6bb-78e34f7a03b7"
      },
      "source": [
        "x=input(\"Mời nhập chuỗi:\")\n",
        "lst=x.split(\",\")\n",
        "print(lst)"
      ],
      "execution_count": 36,
      "outputs": [
        {
          "output_type": "stream",
          "name": "stdout",
          "text": [
            "Mời nhập chuỗi:Mai,Van,bach\n",
            "['Mai', 'Van', 'bach']\n"
          ]
        }
      ]
    },
    {
      "cell_type": "markdown",
      "metadata": {
        "id": "OkxwbNYDsW15"
      },
      "source": [
        "Bài 3: Viết chương trình thực hiện các yêu cầu sau:\n",
        "- Nhập vào từ bàn phím một chuỗi các giá trị (có thể là số nguyên, số thực hay các ký tự)\n",
        "cách nhau bởi dấu phẩy (“,”).\n",
        "- Chuyển chuỗi được nhập từ bàn phím thành một tuple\n",
        "- Hiển thị tuple đó ra màn hình."
      ]
    },
    {
      "cell_type": "code",
      "metadata": {
        "colab": {
          "base_uri": "https://localhost:8080/"
        },
        "id": "WZzMguANsZgr",
        "outputId": "4a253aa4-4cd3-4268-d37b-47bc1c2936e1"
      },
      "source": [
        "x=input(\"Mời nhập chuỗi:\")\n",
        "lst=x.split(\",\")\n",
        "print(tuple(lst))"
      ],
      "execution_count": 37,
      "outputs": [
        {
          "output_type": "stream",
          "name": "stdout",
          "text": [
            "Mời nhập chuỗi:Mai,Van,Bach\n",
            "('Mai', 'Van', 'Bach')\n"
          ]
        }
      ]
    },
    {
      "cell_type": "markdown",
      "metadata": {
        "id": "wl6AHWRrtD1Y"
      },
      "source": [
        "Bài 4: Viết chương trình thực hiện các yêu cầu sau:\n",
        "- Nhập vào 1 chuỗi các kí tự từ bàn phím, các từ cách nhau bởi ít nhất một khoảng trắng\n",
        "- Chuyển chuỗi vừa nhập thành 1 danh sách với điều kiện phân tách là dấu khoảng trắng\n",
        "(space)\n",
        "- Hiển thị danh sách thu được ra màn hình"
      ]
    },
    {
      "cell_type": "code",
      "metadata": {
        "colab": {
          "base_uri": "https://localhost:8080/"
        },
        "id": "eAZp6Ca1tEMI",
        "outputId": "5d4dce7b-0cbe-49c1-bcc8-681e53520a9e"
      },
      "source": [
        "x=input(\"Mời nhập chuỗi:\")\n",
        "lst=x.split(\" \")\n",
        "print(lst)\n"
      ],
      "execution_count": 38,
      "outputs": [
        {
          "output_type": "stream",
          "name": "stdout",
          "text": [
            "Mời nhập chuỗi:Mai Van Bach\n",
            "['Mai', 'Van', 'Bach']\n"
          ]
        }
      ]
    },
    {
      "cell_type": "markdown",
      "metadata": {
        "id": "5V_Dt3jEyTeZ"
      },
      "source": [
        "Bài 5: Viết chương trình thực hiện các yêu cầu sau:\n",
        "- Nhập vào 1 danh sách các số nguyên từ bàn phím (Quá trình nhập dừng khi người dùng\n",
        "nhập vào 1 kí tự từ a đến z)\n",
        "- Hiển thị danh sách đó ra màn hình\n",
        "- Yêu cầu người dùng nhập vào một số nguyên N từ bàn phím\n",
        "\n",
        "- Tìm kiếm vị trí xuất hiện đầu tiên của N trong danh sách và hiển thị ra màn hình (nếu không\n",
        "có thì thông báo không tìm thấy ra màn hình).\n",
        "- Tìm kiếm tất cả các vị trí xuất hiện của N trong danh sách và hiển thị ra màn hình. (Nếu\n",
        "không tìm thấy thì thông báo không tìm được ra màn hình)"
      ]
    },
    {
      "cell_type": "code",
      "metadata": {
        "colab": {
          "base_uri": "https://localhost:8080/"
        },
        "id": "zVlAMC2VwRYC",
        "outputId": "fc7dde98-3024-4af6-9d56-490b511f7e8c"
      },
      "source": [
        "a=[]\n",
        "n=input(\"Mời nhập số nguyên:\")\n",
        "while n.isnumeric():\n",
        "  a.append(int(n))\n",
        "  n=input(\"Mời nhập số nguyên:\")\n",
        "print(a)\n",
        "k=int(input(\"Xin mời nhập 1 số nguyên:\"))\n",
        "if k in a:\n",
        "  print(\"Vị trí xuất hiện đầu tiên của\",k,\"là:\",a.index(k)+1)\n",
        "else:\n",
        "  print(\"Không tìm thấy\")\n",
        "vitri=[]\n",
        "if k in a:\n",
        "  for i in range(0,len(a)):\n",
        "    if k==a[i]:\n",
        "      vitri.append(i+1)\n",
        "  for j in vitri:\n",
        "    print(\"Vị trí xuất hiện của\",k,\"là:\",j)\n",
        "else:\n",
        "  print(\"Không tìm thấy\")"
      ],
      "execution_count": 63,
      "outputs": [
        {
          "output_type": "stream",
          "name": "stdout",
          "text": [
            "Mời nhập số nguyên:1\n",
            "Mời nhập số nguyên:2\n",
            "Mời nhập số nguyên:2\n",
            "Mời nhập số nguyên:3\n",
            "Mời nhập số nguyên:z\n",
            "[1, 2, 2, 3]\n",
            "Xin mời nhập 1 số nguyên:2\n",
            "Vị trí xuất hiện đầu tiên của 2 là: 2\n",
            "Vị trí xuất hiện của 2 là: 2\n",
            "Vị trí xuất hiện của 2 là: 3\n"
          ]
        }
      ]
    }
  ]
}