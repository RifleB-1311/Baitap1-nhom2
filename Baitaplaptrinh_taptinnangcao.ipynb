{
  "nbformat": 4,
  "nbformat_minor": 0,
  "metadata": {
    "colab": {
      "name": "Baitaplaptrinh_taptinnangcao.ipynb",
      "provenance": [],
      "authorship_tag": "ABX9TyO8ZdMAJk3lSE00iBxLhTpw",
      "include_colab_link": true
    },
    "kernelspec": {
      "name": "python3",
      "display_name": "Python 3"
    },
    "language_info": {
      "name": "python"
    }
  },
  "cells": [
    {
      "cell_type": "markdown",
      "metadata": {
        "id": "view-in-github",
        "colab_type": "text"
      },
      "source": [
        "<a href=\"https://colab.research.google.com/github/RifleB-1311/Baitap1-nhom2/blob/main/Baitaplaptrinh_taptinnangcao.ipynb\" target=\"_parent\"><img src=\"https://colab.research.google.com/assets/colab-badge.svg\" alt=\"Open In Colab\"/></a>"
      ]
    },
    {
      "cell_type": "code",
      "metadata": {
        "id": "77E6PUDHJXpJ",
        "colab": {
          "base_uri": "https://localhost:8080/",
          "height": 427
        },
        "outputId": "008bdd16-76f1-4f28-ab59-da5bc511c6be"
      },
      "source": [
        "class Person:\n",
        "  name : str\n",
        "  phone : str\n",
        "  email: str\n",
        "\n",
        "  def __init__(self,ten,sdt,mail):\n",
        "    #Khởi tạo các giá trị\n",
        "    super().__init__()\n",
        "    self.name=ten\n",
        "    self.phone=sdt\n",
        "    self.email=mail\n",
        "  def outputPerson(self) -> str:\n",
        "    result=\"Tên:\" + self.name + \".Số điện thoại:\" + self.phone +\".Email:\"+self.email\n",
        "    return result\n",
        "\n",
        "class Student(Person):\n",
        "  studentnumber : str\n",
        "  avaragemark : float\n",
        "\n",
        "  def __init__(self,ten,sdt,mail,soSV,dtb):\n",
        "    Person.__init__(self,ten,sdt,mail)\n",
        "    self.studentnumber=soSV\n",
        "    self.avaragemark=dtb\n",
        "  def outputStudent(self) -> str:\n",
        "    result= self.outputPerson()+ \".Số sinh viên:\" + self.studentnumber + \".Điểm trung bình:\"+str(self.avaragemark)\n",
        "    return result\n",
        "\n",
        "class Professor(Person):\n",
        "  salary:float\n",
        "  \n",
        "  def __init__(self,ten,sdt,mail,luong):\n",
        "    Person.__init__(self,ten,sdt,mail)\n",
        "    self.salary=luong\n",
        "  def outputProfessor(self) -> str:\n",
        "    result=self.outputPerson() + \".Lương(triệu đồng):\"+str(self.salary)\n",
        "    return result\n",
        "\n",
        "def main():\n",
        "  i,j,k=0,0,0\n",
        "  lst,lstname=[],[]\n",
        "  lst1,lst1avarage=[],[]\n",
        "  lst2,lst2salary=[],[]\n",
        "  global lst_result,lst1_result,lst2_result\n",
        "  while i<3:\n",
        "    bach=Person(input(\"Mời nhập tên người \"+str(i+1)+\":\"),input(\"Mời nhập số điện thoại người \"+str(i+1)+\":\"),input(\"Mời nhập email người \"+str(i+1)+\":\"))\n",
        "    person=Person()\n",
        "    lst.append(bach)\n",
        "    lstname.append(bach.name)\n",
        "    lst                                           #Danh sách 10 cá nhân\n",
        "    i+=1\n",
        "  print(\"Danh sách 10 cá nhân:\",lst)\n",
        "  print(\"\\n\")\n",
        "\n",
        "  while j<3:\n",
        "    bach1=Student(input(\"Mời nhập tên sinh viên \"+str(j+1)+\":\"),input(\"Mời nhập số điện thoại sinh viên \"+str(j+1)+\":\"),input(\"Mời nhập email sinh viên \"+str(j+1)+\":\"),input(\"Mời nhập số sinh viên \"+str(j+1)+\":\"),input(\"Mời nhập điểm trung bình sinh viên \"+str(j+1)+\":\"))\n",
        "    lst1.append(bach1)\n",
        "    lst1avarage.append(bach1.avaragemark)               #Danh sách 10 sinh viên\n",
        "    j+=1\n",
        "  print(\"Danh sách 10 sinh viên:\",lst1)\n",
        "  print(\"\\n\")\n",
        "\n",
        "  while k<3:\n",
        "    bach2=Professor(input(\"Mời nhập tên giáo sư \"+str(k+1)+\":\"),input(\"Mời nhập số điện thoại giáo sư \"+str(k+1)+\":\"),input(\"Mời nhập email giáo sư \"+str(k+1)+\":\"),input(\"Mời nhập lương giáo sư(triệu đồng) \"+str(k+1)+\":\"))\n",
        "    lst2.append(bach2)\n",
        "    salaryy=int(bach2.salary)\n",
        "    lst2salary.append(salaryy)\n",
        "    k+=1                                          #Danh sách 10 giáo sư\n",
        "  print(\"Danh sách 10 giáo sư:\",lst2)\n",
        "\n",
        "  for t in range(len(lst)):\n",
        "    for q in range(i+1,len(lst)):\n",
        "      if lst[i].name<lst[j].name:\n",
        "        lst[i],lst[j]=lst[j],lst[i]\n",
        "  print(\"Danh sách 10 cá nhân sau khi được sắp xếp là:\",lst.outputPerson())\n",
        "\n",
        "if __name__==\"__main__\":\n",
        "  main()\n",
        "\n",
        "import pickle\n",
        "objectt=lst_result\n",
        "object2=lst1_result\n",
        "object3=lst2_result\n",
        "file_Person=open('filename_Person.obj', 'w')\n",
        "file_Student=open()\n",
        "pickle.dump (objectt, file_person)\n"
      ],
      "execution_count": 8,
      "outputs": [
        {
          "name": "stdout",
          "output_type": "stream",
          "text": [
            "Mời nhập tên người 1:duy\n",
            "Mời nhập số điện thoại người 1:1\n",
            "Mời nhập email người 1:1\n"
          ]
        },
        {
          "output_type": "error",
          "ename": "TypeError",
          "evalue": "ignored",
          "traceback": [
            "\u001b[0;31m---------------------------------------------------------------------------\u001b[0m",
            "\u001b[0;31mTypeError\u001b[0m                                 Traceback (most recent call last)",
            "\u001b[0;32m<ipython-input-8-a786196fee52>\u001b[0m in \u001b[0;36m<module>\u001b[0;34m()\u001b[0m\n\u001b[1;32m     75\u001b[0m \u001b[0;34m\u001b[0m\u001b[0m\n\u001b[1;32m     76\u001b[0m \u001b[0;32mif\u001b[0m \u001b[0m__name__\u001b[0m\u001b[0;34m==\u001b[0m\u001b[0;34m\"__main__\"\u001b[0m\u001b[0;34m:\u001b[0m\u001b[0;34m\u001b[0m\u001b[0;34m\u001b[0m\u001b[0m\n\u001b[0;32m---> 77\u001b[0;31m   \u001b[0mmain\u001b[0m\u001b[0;34m(\u001b[0m\u001b[0;34m)\u001b[0m\u001b[0;34m\u001b[0m\u001b[0;34m\u001b[0m\u001b[0m\n\u001b[0m\u001b[1;32m     78\u001b[0m \u001b[0;34m\u001b[0m\u001b[0m\n\u001b[1;32m     79\u001b[0m \u001b[0;32mimport\u001b[0m \u001b[0mpickle\u001b[0m\u001b[0;34m\u001b[0m\u001b[0;34m\u001b[0m\u001b[0m\n",
            "\u001b[0;32m<ipython-input-8-a786196fee52>\u001b[0m in \u001b[0;36mmain\u001b[0;34m()\u001b[0m\n\u001b[1;32m     44\u001b[0m   \u001b[0;32mwhile\u001b[0m \u001b[0mi\u001b[0m\u001b[0;34m<\u001b[0m\u001b[0;36m3\u001b[0m\u001b[0;34m:\u001b[0m\u001b[0;34m\u001b[0m\u001b[0;34m\u001b[0m\u001b[0m\n\u001b[1;32m     45\u001b[0m     \u001b[0mbach\u001b[0m\u001b[0;34m=\u001b[0m\u001b[0mPerson\u001b[0m\u001b[0;34m(\u001b[0m\u001b[0minput\u001b[0m\u001b[0;34m(\u001b[0m\u001b[0;34m\"Mời nhập tên người \"\u001b[0m\u001b[0;34m+\u001b[0m\u001b[0mstr\u001b[0m\u001b[0;34m(\u001b[0m\u001b[0mi\u001b[0m\u001b[0;34m+\u001b[0m\u001b[0;36m1\u001b[0m\u001b[0;34m)\u001b[0m\u001b[0;34m+\u001b[0m\u001b[0;34m\":\"\u001b[0m\u001b[0;34m)\u001b[0m\u001b[0;34m,\u001b[0m\u001b[0minput\u001b[0m\u001b[0;34m(\u001b[0m\u001b[0;34m\"Mời nhập số điện thoại người \"\u001b[0m\u001b[0;34m+\u001b[0m\u001b[0mstr\u001b[0m\u001b[0;34m(\u001b[0m\u001b[0mi\u001b[0m\u001b[0;34m+\u001b[0m\u001b[0;36m1\u001b[0m\u001b[0;34m)\u001b[0m\u001b[0;34m+\u001b[0m\u001b[0;34m\":\"\u001b[0m\u001b[0;34m)\u001b[0m\u001b[0;34m,\u001b[0m\u001b[0minput\u001b[0m\u001b[0;34m(\u001b[0m\u001b[0;34m\"Mời nhập email người \"\u001b[0m\u001b[0;34m+\u001b[0m\u001b[0mstr\u001b[0m\u001b[0;34m(\u001b[0m\u001b[0mi\u001b[0m\u001b[0;34m+\u001b[0m\u001b[0;36m1\u001b[0m\u001b[0;34m)\u001b[0m\u001b[0;34m+\u001b[0m\u001b[0;34m\":\"\u001b[0m\u001b[0;34m)\u001b[0m\u001b[0;34m)\u001b[0m\u001b[0;34m\u001b[0m\u001b[0;34m\u001b[0m\u001b[0m\n\u001b[0;32m---> 46\u001b[0;31m     \u001b[0mperson\u001b[0m\u001b[0;34m=\u001b[0m\u001b[0mPerson\u001b[0m\u001b[0;34m(\u001b[0m\u001b[0;34m)\u001b[0m\u001b[0;34m\u001b[0m\u001b[0;34m\u001b[0m\u001b[0m\n\u001b[0m\u001b[1;32m     47\u001b[0m     \u001b[0mlst\u001b[0m\u001b[0;34m.\u001b[0m\u001b[0mappend\u001b[0m\u001b[0;34m(\u001b[0m\u001b[0mbach\u001b[0m\u001b[0;34m)\u001b[0m\u001b[0;34m\u001b[0m\u001b[0;34m\u001b[0m\u001b[0m\n\u001b[1;32m     48\u001b[0m     \u001b[0mlstname\u001b[0m\u001b[0;34m.\u001b[0m\u001b[0mappend\u001b[0m\u001b[0;34m(\u001b[0m\u001b[0mbach\u001b[0m\u001b[0;34m.\u001b[0m\u001b[0mname\u001b[0m\u001b[0;34m)\u001b[0m\u001b[0;34m\u001b[0m\u001b[0;34m\u001b[0m\u001b[0m\n",
            "\u001b[0;31mTypeError\u001b[0m: __init__() missing 3 required positional arguments: 'ten', 'sdt', and 'mail'"
          ]
        }
      ]
    }
  ]
}