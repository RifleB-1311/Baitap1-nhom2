{
  "nbformat": 4,
  "nbformat_minor": 0,
  "metadata": {
    "colab": {
      "name": "Baitapsapxep_Nhom2.ipynb",
      "provenance": [],
      "collapsed_sections": [],
      "authorship_tag": "ABX9TyOeNIkARWZekTr83HqfXns1",
      "include_colab_link": true
    },
    "kernelspec": {
      "name": "python3",
      "display_name": "Python 3"
    },
    "language_info": {
      "name": "python"
    }
  },
  "cells": [
    {
      "cell_type": "markdown",
      "metadata": {
        "id": "view-in-github",
        "colab_type": "text"
      },
      "source": [
        "<a href=\"https://colab.research.google.com/github/RifleB-1311/Baitap1-nhom2/blob/main/Baitapsapxep_Nhom2.ipynb\" target=\"_parent\"><img src=\"https://colab.research.google.com/assets/colab-badge.svg\" alt=\"Open In Colab\"/></a>"
      ]
    },
    {
      "cell_type": "markdown",
      "metadata": {
        "id": "1meGq4tulUST"
      },
      "source": [
        "Bài 1: Viết chương trình nhập vào từ bàn phím một danh sách gồm 10 số nguyên và thực hiện các\n",
        "yêu cầu sau:\n",
        "- Sắp xếp danh sách trên theo chiều tăng dần\n",
        "- In kết quả ra màn hình"
      ]
    },
    {
      "cell_type": "code",
      "metadata": {
        "colab": {
          "base_uri": "https://localhost:8080/"
        },
        "id": "dOypmDd6lHxs",
        "outputId": "a8c2aef8-9df9-4deb-cc65-700b777d66ac"
      },
      "source": [
        "i=0\n",
        "lst=[]\n",
        "while (i<10):\n",
        "  n=int(input(\"Nhập phần tử cho danh sách:\"))\n",
        "  lst.append(n)\n",
        "  i+=1\n",
        "print(\"Danh sách đã được nhập là:\",lst)\n",
        "for j in range(0,len(lst)-1):\n",
        "  for k in range(j+1,len(lst)):\n",
        "    if (lst[j]>lst[k]):\n",
        "      lst[j],lst[k]=lst[k],lst[j]\n",
        "print(\"Danh sách sau khi được sắp xếp theo chiều tăng dần là:\",lst)"
      ],
      "execution_count": null,
      "outputs": [
        {
          "output_type": "stream",
          "name": "stdout",
          "text": [
            "Nhập phần tử cho danh sách:1\n",
            "Nhập phần tử cho danh sách:-1\n",
            "Nhập phần tử cho danh sách:2\n",
            "Nhập phần tử cho danh sách:-2\n",
            "Nhập phần tử cho danh sách:3\n",
            "Nhập phần tử cho danh sách:-3\n",
            "Nhập phần tử cho danh sách:4\n",
            "Nhập phần tử cho danh sách:-4\n",
            "Nhập phần tử cho danh sách:5\n",
            "Nhập phần tử cho danh sách:-5\n",
            "Danh sách đã được nhập là: [1, -1, 2, -2, 3, -3, 4, -4, 5, -5]\n",
            "Danh sách sau khi được sắp xếp theo chiều tăng dần là: [-5, -4, -3, -2, -1, 1, 2, 3, 4, 5]\n"
          ]
        }
      ]
    },
    {
      "cell_type": "markdown",
      "metadata": {
        "id": "0F1Kz6jIp4CF"
      },
      "source": [
        "Bài 2: Viết chương trình thực hiện các yêu cầu sau:\n",
        "- Xây dựng hàm có tên nhap_danh_sach_so_nguyen(n), trong đó:\n",
        "\n",
        "o Tham số đầu vào n là số phần tử của danh sách;\n",
        "\n",
        "o Hàm này trả về một danh sách gồm n số nguyên được nhập vào từ bàn phím\n",
        "- Xây dựng hàm có tên sap_xep_danh_sach(x), trong đó:\n",
        "\n",
        "o Tham số đầu vào x là một danh sách các số nguyên\n",
        "\n",
        "o Hàm này trả về một danh sách các số nguyên được sắp xếp theo chiều tăng dần\n",
        "- Chương trình chính (__main__) gọi thực thi 2 hàm nêu trên và in kết quả sắp xếp ra màn\n",
        "hình."
      ]
    },
    {
      "cell_type": "code",
      "metadata": {
        "colab": {
          "base_uri": "https://localhost:8080/"
        },
        "id": "-463owDap9bY",
        "outputId": "f57d5962-a8a1-47af-c947-03c1706c0891"
      },
      "source": [
        "def nhap_danh_sach_so_nguyen(n):\n",
        "  i=0\n",
        "  list1=[]\n",
        "  while (i<n):\n",
        "    nhap=int(input(\"Nhập phần tử số nguyên cho danh sách:\"))\n",
        "    list1.append(nhap)\n",
        "    i+=1\n",
        "  print(\"Danh sách đã được nhập là:\",list1)\n",
        "  return list1\n",
        "\n",
        "def sap_xep_danh_sach(x):\n",
        "  for i in range(0,len(x)-1):\n",
        "    for j in range(i+1,len(x)):\n",
        "      if x[i]>x[j]:\n",
        "        x[i],x[j]=x[j],x[i]\n",
        "  print(\"Danh sách được sắp xếp theo chiều tăng dần:\",x)\n",
        "\n",
        "def main():\n",
        "  lst=nhap_danh_sach_so_nguyen(10)\n",
        "  sap_xep_danh_sach(lst)\n",
        "\n",
        "if __name__== \"__main__\":\n",
        "  main()\n"
      ],
      "execution_count": null,
      "outputs": [
        {
          "output_type": "stream",
          "name": "stdout",
          "text": [
            "Nhập phần tử số nguyên cho danh sách:-1\n",
            "Nhập phần tử số nguyên cho danh sách:1\n",
            "Nhập phần tử số nguyên cho danh sách:-2\n",
            "Nhập phần tử số nguyên cho danh sách:2\n",
            "Nhập phần tử số nguyên cho danh sách:-3\n",
            "Nhập phần tử số nguyên cho danh sách:3\n",
            "Nhập phần tử số nguyên cho danh sách:-4\n",
            "Nhập phần tử số nguyên cho danh sách:4\n",
            "Nhập phần tử số nguyên cho danh sách:-5\n",
            "Nhập phần tử số nguyên cho danh sách:5\n",
            "Danh sách đã được nhập là: [-1, 1, -2, 2, -3, 3, -4, 4, -5, 5]\n",
            "Danh sách được sắp xếp theo chiều tăng dần: [-5, -4, -3, -2, -1, 1, 2, 3, 4, 5]\n"
          ]
        }
      ]
    },
    {
      "cell_type": "markdown",
      "metadata": {
        "id": "bgUtUqRJqbv5"
      },
      "source": [
        "Bài 3: Viết chương trình nhập vào từ bàn phím một danh sách các số thực, theo các yêu cầu sau:\n",
        "- Sau khi nhập mỗi số thực từ bàn phím, chương trình hỏi người dùng có muốn tiếp tục nhập\n",
        "không. Nếu người dùng gõ ký tự n hoặc N thì kết thúc quá trình nhập;\n",
        "- Sắp xếp danh sách các số thực tren theo chiều giảm dần;\n",
        "- In kết quả ra màn hình."
      ]
    },
    {
      "cell_type": "code",
      "metadata": {
        "colab": {
          "base_uri": "https://localhost:8080/"
        },
        "id": "RAmIG7tHqp3_",
        "outputId": "e81ae188-032d-4599-985e-d4c104b4e158"
      },
      "source": [
        "check=\"\"\n",
        "lst=[]\n",
        "while (check !=\"N\") and (check!=\"n\"):\n",
        "  n=float(input(\"Nhập phần tử cho danh sách:\"))\n",
        "  lst.append(n)\n",
        "  check=input(\"Có tiếp tục nhập phần tử cho danh sách không, nhấn phím N để kết thúc, nhấn phím bất kì để tiếp tục quá trình nhập:\")\n",
        "print(\"Danh sách đã được nhập là:\",lst)\n",
        "for i in range(0,len(lst)):\n",
        "  for j in range(i+1,len(lst)):\n",
        "    if lst[i]<lst[j]:\n",
        "      lst[i],lst[j]=lst[j],lst[i]\n",
        "print(\"Danh sách sau khi sắp xép theo chiều giảm dần là:\",lst)"
      ],
      "execution_count": null,
      "outputs": [
        {
          "output_type": "stream",
          "name": "stdout",
          "text": [
            "Nhập phần tử cho danh sách:-1.5\n",
            "Có tiếp tục nhập phần tử cho danh sách không, nhấn phím N để kết thúc, nhấn phím bất kì để tiếp tục quá trình nhập:h\n",
            "Nhập phần tử cho danh sách:2\n",
            "Có tiếp tục nhập phần tử cho danh sách không, nhấn phím N để kết thúc, nhấn phím bất kì để tiếp tục quá trình nhập:l\n",
            "Nhập phần tử cho danh sách:1\n",
            "Có tiếp tục nhập phần tử cho danh sách không, nhấn phím N để kết thúc, nhấn phím bất kì để tiếp tục quá trình nhập:k\n",
            "Nhập phần tử cho danh sách:-5\n",
            "Có tiếp tục nhập phần tử cho danh sách không, nhấn phím N để kết thúc, nhấn phím bất kì để tiếp tục quá trình nhập:n\n",
            "Danh sách đã được nhập là: [-1.5, 2.0, 1.0, -5.0]\n",
            "Danh sách sau khi sắp xép theo chiều giảm dần là: [2.0, 1.0, -1.5, -5.0]\n"
          ]
        }
      ]
    },
    {
      "cell_type": "markdown",
      "metadata": {
        "id": "i_bOOj_mha42"
      },
      "source": [
        "Bài 4: Viết chương trình thực hiện các yêu cầu sau:\n",
        "- Xây dựng hàm nhap_danh_sach_so_thuc( ) thỏa mãn các yêu cầu sau:\n",
        "\n",
        "o Sau khi nhập mỗi số thực từ bàn phím, chương trình hỏi người dùng có muốn tiếp\n",
        "tục nhập không. Nếu người dùng gõ ký tự n hoặc N thì kết thúc quá trình nhập;\n",
        "\n",
        "o Hàm trả về danh sách các số thực đã nhập.\n",
        "- Xây dựng hàm sap_xep_danh_sach_so_thuc(x), với:\n",
        "\n",
        "o Tham số đầu vào x là một danh sách các số thực;\n",
        "\n",
        "o Hàm này trả về một danh sách các số thực được sắp xếp theo chiều giảm dần\n",
        "\n",
        "- Chương trình chính (__main__) gọi thực thi 2 hàm nêu trên và in kết quả sắp xếp ra màn\n",
        "hình."
      ]
    },
    {
      "cell_type": "code",
      "metadata": {
        "colab": {
          "base_uri": "https://localhost:8080/"
        },
        "id": "St6r-lUnhrVZ",
        "outputId": "82c24ab7-1ef0-49ec-f017-ed04bb4bd43b"
      },
      "source": [
        "def nhap_danh_sach_so_thuc():\n",
        "  check=\"\"\n",
        "  lst=[]\n",
        "  while (check !=\"N\") and (check!=\"n\"):\n",
        "    n=float(input(\"Nhập phần tử cho danh sách:\"))\n",
        "    lst.append(n)\n",
        "    check=input(\"Có tiếp tục nhập phần tử cho danh sách không, nhấn phím N để kết thúc, nhấn phím bất kì để tiếp tục quá trình nhập:\")\n",
        "  print(\"Danh sách đã được nhập là:\",lst)\n",
        "  return lst\n",
        "\n",
        "def sap_xep_danh_sach_so_thuc(x):\n",
        "  for i in range(0,len(x)-1):\n",
        "    for j in range(i+1,len(x)):\n",
        "      if x[i]<x[j]:\n",
        "        x[i],x[j]=x[j],x[i]\n",
        "  print(\"Danh sách sau khi sắp xép theo chiều giảm dần là:\",x)\n",
        "\n",
        "def main():\n",
        "  list2=nhap_danh_sach_so_thuc()\n",
        "  sap_xep_danh_sach_so_thuc(list2)\n",
        "\n",
        "if __name__==\"__main__\":\n",
        "  main()"
      ],
      "execution_count": null,
      "outputs": [
        {
          "output_type": "stream",
          "name": "stdout",
          "text": [
            "Nhập phần tử cho danh sách:1\n",
            "Có tiếp tục nhập phần tử cho danh sách không, nhấn phím N để kết thúc, nhấn phím bất kì để tiếp tục quá trình nhập:K\n",
            "Nhập phần tử cho danh sách:2.4\n",
            "Có tiếp tục nhập phần tử cho danh sách không, nhấn phím N để kết thúc, nhấn phím bất kì để tiếp tục quá trình nhập:g\n",
            "Nhập phần tử cho danh sách:-4.5\n",
            "Có tiếp tục nhập phần tử cho danh sách không, nhấn phím N để kết thúc, nhấn phím bất kì để tiếp tục quá trình nhập:p\n",
            "Nhập phần tử cho danh sách:3.44\n",
            "Có tiếp tục nhập phần tử cho danh sách không, nhấn phím N để kết thúc, nhấn phím bất kì để tiếp tục quá trình nhập:n\n",
            "Danh sách đã được nhập là: [1.0, 2.4, -4.5, 3.44]\n",
            "Danh sách sau khi sắp xép theo chiều giảm dần là: [3.44, 2.4, 1.0, -4.5]\n"
          ]
        }
      ]
    },
    {
      "cell_type": "markdown",
      "metadata": {
        "id": "w39ADsTTpTn4"
      },
      "source": [
        "Bài 5: Viết chương trình thực hiện các yêu cầu sau:\n",
        "- Sinh ngẫu nhiên 1 danh sách số nguyên gồm n phần tử. Trong đó, n được nhập vào từ bàn\n",
        "phím và số nguyên sinh ra nằm trong khoảng từ 0 đến max_value. Giá trị max_value được\n",
        "nhập vào từ bàn phím;\n",
        "- Hỏi người dùng lựa chọn sắp xếp danh sách trên theo chiều tăng dần hay giảm dần và sắp\n",
        "xếp danh sách theo lựa chọn của người dùng;\n",
        "- In kết quả sắp xếp ra màn hình."
      ]
    },
    {
      "cell_type": "code",
      "metadata": {
        "colab": {
          "base_uri": "https://localhost:8080/"
        },
        "id": "7ctJpNagpYJF",
        "outputId": "3eab97c4-e4c3-4c60-a730-225c26dee904"
      },
      "source": [
        "import random\n",
        "n=int(input(\"Mời nhập số phần tử của danh sách:\"))\n",
        "max_value=int(input(\"Mời nhập giới hạn:\"))\n",
        "lst=[]\n",
        "i=0\n",
        "while i<n:\n",
        "  x= random.randrange(0,max_value)\n",
        "  lst.append(x)\n",
        "  i+=1\n",
        "print(\"Danh sách ngẫu nhiên được tạo:\",lst)\n",
        "check=input(\"Nhấn phím 1 để sắp xếp danh sách tăng dần, phím 2 giảm dần:\")\n",
        "if (check==\"1\"):\n",
        "  for j in range(0,len(lst)-1):\n",
        "    for k in range(j+1,len(lst)):\n",
        "      if (lst[j]>lst[k]):\n",
        "        lst[j],lst[k]=lst[k],lst[j]\n",
        "  print(\"Danh sách sau khi được sắp xếp tăng dần là:\",lst)\n",
        "if (check ==\"2\"):\n",
        "  for j in range(0,len(lst)-1):\n",
        "    for k in range(j+1,len(lst)):\n",
        "      if (lst[j]<lst[k]):\n",
        "        lst[j],lst[k]=lst[k],lst[j]\n",
        "  print(\"Danh sách sau khi được sắp xếp giảm dần là:\",lst)"
      ],
      "execution_count": 10,
      "outputs": [
        {
          "output_type": "stream",
          "name": "stdout",
          "text": [
            "Mời nhập số phần tử của danh sách:5\n",
            "Mời nhập giới hạn:100\n",
            "Danh sách ngẫu nhiên được tạo: [16, 8, 66, 96, 16]\n",
            "Nhấn phím 1 để sắp xếp danh sách tăng dần, phím 2 giảm dần:2\n",
            "Danh sách sau khi được sắp xếp giảm dần là: [96, 66, 16, 16, 8]\n"
          ]
        }
      ]
    },
    {
      "cell_type": "markdown",
      "metadata": {
        "id": "I176YX6Wba1U"
      },
      "source": [
        "Bài 6: Viết chương trình thực hiện các yêu cầu sau:\n",
        "- Xây dựng hàm sinh_ngau_nhien_danh_sach_so_nguyen( ), thực hiện các thao tác sau:\n",
        "\n",
        "o Sinh ngẫu nhiên 1 danh sách số nguyên gồm n phần tử;\n",
        "\n",
        "o Trong đó, n được nhập vào từ bàn phím và số nguyên sinh ra nằm trong khoảng từ\n",
        "0 đến max_value;\n",
        "\n",
        "o Giá trị max_value được nhập vào từ bàn phím;\n",
        "\n",
        "o Hàm này trả về danh sách các số nguyên được sinh ngẫu nhiên ở trên.\n",
        "- Xây dựng hàm sap_xep_giam_dan(x), trong đó:\n",
        "\n",
        "o Tham số đầu vào x là một danh sách các số nguyên;\n",
        "\n",
        "o Hàm này trả về một danh sách các số nguyên được sắp xếp theo chiều giảm dần.\n",
        "\n",
        "- Xây dựng hàm sap_xep_tang_dan(x), trong đó:\n",
        "\n",
        "o Tham số đầu vào x là một danh sách các số nguyên;\n",
        "\n",
        "o Hàm này trả về một danh sách các số nguyên được sắp xếp theo chiều tăng dần.\n",
        "- Chương trình chính (__main__) gọi thực hiện các hàm trên và in kết quả ra màn hình."
      ]
    },
    {
      "cell_type": "code",
      "metadata": {
        "colab": {
          "base_uri": "https://localhost:8080/"
        },
        "id": "6yE8coSdZokd",
        "outputId": "2544b85f-68b1-403e-b6e6-9211bd355641"
      },
      "source": [
        "def sinh_ngau_nhien_danh_sach_so_nguyen():\n",
        "  import random\n",
        "  n=int(input(\"Mời nhập số phần tử của danh sách:\"))\n",
        "  max_value=int(input(\"Mời nhập giới hạn:\"))\n",
        "  lst=[]\n",
        "  i=0\n",
        "  while i<n:\n",
        "    x= random.randrange(0,max_value)\n",
        "    lst.append(x)\n",
        "    i+=1\n",
        "  print(\"Danh sách ngẫu nhiên được tạo:\",lst)\n",
        "  return lst\n",
        "\n",
        "def sap_xep_giam_dan(x):\n",
        "  for i in range(0,len(x)-1):\n",
        "    for j in range(i+1,len(x)):\n",
        "      if (x[i]<x[j]):\n",
        "        x[i],x[j]=x[j],x[i]\n",
        "  print(\"Danh sách sau khi được sắp xếp giảm dần là:\",x)\n",
        "\n",
        "def sap_xep_tang_dan(x):\n",
        "    for i in range(0,len(x)-1):\n",
        "      for j in range(i+1,len(x)):\n",
        "        if (x[i]>x[j]):\n",
        "          x[i],x[j]=x[j],x[i]\n",
        "    print(\"Danh sách sau khi được sắp xếp tăng dần là:\",x)\n",
        "\n",
        "def main():\n",
        "  x=sinh_ngau_nhien_danh_sach_so_nguyen()\n",
        "  sap_xep_giam_dan(x)\n",
        "  sap_xep_tang_dan(x)\n",
        "\n",
        "if __name__ == \"__main__\":\n",
        "  main()"
      ],
      "execution_count": 12,
      "outputs": [
        {
          "output_type": "stream",
          "name": "stdout",
          "text": [
            "Mời nhập số phần tử của danh sách:6\n",
            "Mời nhập giới hạn:100\n",
            "Danh sách ngẫu nhiên được tạo: [53, 68, 23, 30, 78, 39]\n",
            "Danh sách sau khi được sắp xếp giảm dần là: [78, 68, 53, 39, 30, 23]\n",
            "Danh sách sau khi được sắp xếp tăng dần là: [23, 30, 39, 53, 68, 78]\n"
          ]
        }
      ]
    }
  ]
}