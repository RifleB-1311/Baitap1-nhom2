{
  "nbformat": 4,
  "nbformat_minor": 0,
  "metadata": {
    "colab": {
      "name": "Baitapsapxep_nhom2.ipynb",
      "provenance": [],
      "authorship_tag": "ABX9TyPetflUcpd41a1KlQjrBZBx",
      "include_colab_link": true
    },
    "kernelspec": {
      "name": "python3",
      "display_name": "Python 3"
    },
    "language_info": {
      "name": "python"
    }
  },
  "cells": [
    {
      "cell_type": "markdown",
      "metadata": {
        "id": "view-in-github",
        "colab_type": "text"
      },
      "source": [
        "<a href=\"https://colab.research.google.com/github/RifleB-1311/Baitap1-nhom2/blob/main/Baitapsapxep_nhom2.ipynb\" target=\"_parent\"><img src=\"https://colab.research.google.com/assets/colab-badge.svg\" alt=\"Open In Colab\"/></a>"
      ]
    },
    {
      "cell_type": "markdown",
      "metadata": {
        "id": "j0wrzx_H_bkI"
      },
      "source": [
        "Bài 1: Viết chương trình thực hiện các yêu cầu sau:\n",
        "- Sinh ngẫu nhiên 1 danh sách n số nguyên trong đoạn [a, b], với các thông số n, a và b được\n",
        "nhập vào từ bàn phím;\n",
        "- Nhập vào 1 số x từ bàn phím có giá trị trong đoạn [a, b];\n",
        "- Tìm kiếm x có xuất hiện trong danh sách trên hay không. Nếu có thì trả về vị trí xuất hiện\n",
        "đầu tiên trong danh sách. Ngược lại, thông báo không tìm thấy."
      ]
    },
    {
      "cell_type": "code",
      "metadata": {
        "colab": {
          "base_uri": "https://localhost:8080/"
        },
        "id": "HlzgYfv5_X6Q",
        "outputId": "43fcb76b-46ab-47b7-b827-2e33a438fb99"
      },
      "source": [
        "import random\n",
        "n=int(input(\"Mời nhập số phần tử của danh sách:\"))\n",
        "a=int(input(\"Mời nhập giá trị bắt đầu của đoạn:\"))\n",
        "b=int(input(\"Mời nhập giá trị kết thúc của đoạn:\"))\n",
        "k=0\n",
        "lst=[]\n",
        "while k<n:\n",
        "  t=random.randrange(a,b+1)\n",
        "  lst.append(t)\n",
        "  k+=1\n",
        "print(\"Danh sách đã được sinh ngẫu nhiên là:\",lst)\n",
        "\n",
        "ketqua=[]\n",
        "x=int(input(\"Mời nhập 1 số bất kì trong đoạn [a,b]:\"))\n",
        "for i in range(len(lst)):\n",
        "  if x== lst[i]:\n",
        "    ketqua.append(i)\n",
        "if len(ketqua)>0:\n",
        "  print(\"Vị trí xuất hiện đầu tiên của\",x,\"là:\",ketqua[0]+1)\n",
        "else:\n",
        "  print(\"Không tìm thấy !\")"
      ],
      "execution_count": null,
      "outputs": [
        {
          "output_type": "stream",
          "name": "stdout",
          "text": [
            "Mời nhập số phần tử của danh sách:5\n",
            "Mời nhập giá trị bắt đầu của đoạn:1\n",
            "Mời nhập giá trị kết thúc của đoạn:10\n",
            "Danh sách đã được sinh ngẫu nhiên là: [6, 5, 8, 5, 6]\n",
            "Mời nhập 1 số bất kì trong đoạn [a,b]:5\n",
            "Vị trí xuất hiện đầu tiên của 5 là: 2\n"
          ]
        }
      ]
    },
    {
      "cell_type": "markdown",
      "metadata": {
        "id": "a7CBmQpzCCQf"
      },
      "source": [
        "Bài 2: Viết chương trình thực hiện các yêu cầu sau:\n",
        "- Sinh ngẫu nhiên 1 danh sách n số nguyên trong đoạn [a, b], với các thông số n, a và b được\n",
        "nhập vào từ bàn phím;\n",
        "- Nhập vào 1 số x từ bàn phím có giá trị trong đoạn [a, b];\n",
        "- Tìm kiếm x có xuất hiện trong danh sách trên hay không theo yêu cầu sau:\n",
        "\n",
        "o Nếu có thì trả về vị trí xuất hiện đầu tiên trong danh sách và thông báo số bước lặp\n",
        "đã thực hiện để tìm được phần tử này.\n",
        "\n",
        "o Ngược lại, thông báo không tìm thấy."
      ]
    },
    {
      "cell_type": "code",
      "metadata": {
        "colab": {
          "base_uri": "https://localhost:8080/"
        },
        "id": "wO2Zpw6WCFO_",
        "outputId": "f9adcc7a-a9d2-4284-f2b3-2a365a95a999"
      },
      "source": [
        "import random\n",
        "n=int(input(\"Mời nhập số phần tử của danh sách:\"))\n",
        "a=int(input(\"Mời nhập giá trị bắt đầu của đoạn:\"))\n",
        "b=int(input(\"Mời nhập giá trị kết thúc của đoạn:\"))\n",
        "k=0\n",
        "lst=[]\n",
        "while k<n:\n",
        "  t=random.randrange(a,b+1)\n",
        "  lst.append(t)\n",
        "  k+=1\n",
        "print(\"Danh sách đã được sinh ngẫu nhiên là:\",lst)\n",
        "\n",
        "ketqua=[]\n",
        "count=0\n",
        "x=int(input(\"Mời nhập 1 số bất kì trong đoạn [a,b]:\"))\n",
        "for i in range(len(lst)):\n",
        "  if x== lst[i]:\n",
        "    ketqua.append(i)\n",
        "    count+=1\n",
        "if len(ketqua)>0:\n",
        "  print(\"Vị trí xuất hiện đầu tiên của\",x,\"là:\",ketqua[0]+1)\n",
        "  print(\"Số bước lặp để tìm ra phần tử này là:\",count)\n",
        "else:\n",
        "  print(\"Không tìm thấy !\")\n"
      ],
      "execution_count": null,
      "outputs": [
        {
          "output_type": "stream",
          "name": "stdout",
          "text": [
            "Mời nhập số phần tử của danh sách:5\n",
            "Mời nhập giá trị bắt đầu của đoạn:1\n",
            "Mời nhập giá trị kết thúc của đoạn:10\n",
            "Danh sách đã được sinh ngẫu nhiên là: [7, 10, 3, 4, 8]\n",
            "Mời nhập 1 số bất kì trong đoạn [a,b]:4\n",
            "Vị trí xuất hiện đầu tiên của 4 là: 4\n",
            "Số bước lặp để tìm ra phần tử này là: 1\n"
          ]
        }
      ]
    },
    {
      "cell_type": "markdown",
      "metadata": {
        "id": "Jvg3S5FCAW8R"
      },
      "source": [
        "Bài 3: Viết chương trình thực hiện các yêu cầu sau:\n",
        "- Bước 1: Sinh ngẫu nhiên 1 danh sách n số nguyên trong đoạn [a, b], với các thông số n, a\n",
        "và b được nhập vào từ bàn phím;\n",
        "- Bước 2: Nhập vào 1 số x từ bàn phím có giá trị trong đoạn [a, b];\n",
        "- Bước 3: Sắp xếp danh sách trên theo chiều tăng dần\n",
        "- Bước 4: Tìm kiếm x có xuất hiện trong danh sách trên hay không theo yêu cầu sau:\n",
        "\n",
        "o Nếu có thì trả về vị trí xuất hiện đầu tiên trong danh sách và thông báo số bước lặp\n",
        "đã thực hiện để tìm được phần tử này.\n",
        "\n",
        "o Ngược lại, thông báo không tìm thấy."
      ]
    },
    {
      "cell_type": "code",
      "metadata": {
        "colab": {
          "base_uri": "https://localhost:8080/"
        },
        "id": "Ozat1Oy2AkDi",
        "outputId": "6bcd7027-36fd-4597-8279-030ad921abbf"
      },
      "source": [
        "#Bước 1:\n",
        "import random\n",
        "n=int(input(\"Mời nhập số phần tử của danh sách:\"))\n",
        "a=int(input(\"Mời nhập giá trị bắt đầu của đoạn:\"))\n",
        "b=int(input(\"Mời nhập giá trị kết thúc của đoạn:\"))\n",
        "k=0\n",
        "lst=[]\n",
        "while k<n:\n",
        "  t=random.randrange(a,b+1)\n",
        "  lst.append(t)\n",
        "  k+=1\n",
        "print(\"Danh sách đã được sinh ngẫu nhiên là:\",lst)\n",
        "\n",
        "#Bước 2:\n",
        "x=int(input(\"Nhập vào 1 số bất kì trong đoạn [a,b]:\"))\n",
        "\n",
        "#Bước 3:\n",
        "for m in range(0,len(lst)):\n",
        "  for p in range(m+1,len(lst)):\n",
        "    if lst[m]>lst[p]:\n",
        "      lst[m],lst[p]=lst[p],lst[m]\n",
        "print(\"Danh sách sau khi được sắp xếp tăng dần là:\",lst)\n",
        "\n",
        "#Bước 4:\n",
        "ketqua=[]\n",
        "count=0\n",
        "for i in range(len(lst)):\n",
        "  if x== lst[i]:\n",
        "    ketqua.append(i)\n",
        "    count+=1\n",
        "if len(ketqua)>0:\n",
        "  print(\"Vị trí xuất hiện đầu tiên của\",x,\"trong danh sách là:\",ketqua[0]+1)\n",
        "  print(\"Số bước lặp để tìm được phần tử là:\",count)\n",
        "else:\n",
        "  print(\"Không tìm thấy !\")"
      ],
      "execution_count": null,
      "outputs": [
        {
          "output_type": "stream",
          "name": "stdout",
          "text": [
            "Mời nhập số phần tử của danh sách:5\n",
            "Mời nhập giá trị bắt đầu của đoạn:1\n",
            "Mời nhập giá trị kết thúc của đoạn:10\n",
            "Danh sách đã được sinh ngẫu nhiên là: [10, 3, 2, 2, 10]\n",
            "Nhập vào 1 số bất kì trong đoạn [a,b]:2\n",
            "Danh sách sau khi được sắp xếp tăng dần là: [2, 2, 3, 10, 10]\n",
            "Vị trí xuất hiện đầu tiên của 2 trong danh sách là: 1\n",
            "Số bước lặp để tìm được phần tử là: 2\n"
          ]
        }
      ]
    },
    {
      "cell_type": "markdown",
      "metadata": {
        "id": "AeaeUy4PB3sS"
      },
      "source": [
        "Bài 4: Viết chương trình thực hiện các yêu cầu sau:\n",
        "- Bước 1: Sinh ngẫu nhiên 1 danh sách n số nguyên trong đoạn [a, b], với các thông số n, a\n",
        "và b được nhập vào từ bàn phím;\n",
        "- Bước 2: Nhập vào 1 số x từ bàn phím có giá trị trong đoạn [a, b];\n",
        "\n",
        "- Bước 3: Sắp xếp danh sách trên theo chiều tăng dần\n",
        "- Bước 4: Tìm kiếm x có xuất hiện trong danh sách trên hay không theo yêu cầu sau:\n",
        "\n",
        "o Nếu có thì trả về tất cả các vị trí xuất hiện trong danh sách và thông báo số bước\n",
        "lặp đã thực hiện để tìm được các phần tử này.\n",
        "\n",
        "o Ngược lại, thông báo không tìm thấy."
      ]
    },
    {
      "cell_type": "code",
      "metadata": {
        "colab": {
          "base_uri": "https://localhost:8080/"
        },
        "id": "pkkbqtkyCCj1",
        "outputId": "94154394-69a3-42a5-eaea-ad6d854210c1"
      },
      "source": [
        "#Bước 1:\n",
        "import random\n",
        "n=int(input(\"Mời nhập số phần tử của danh sách:\"))\n",
        "a=int(input(\"Mời nhập giá trị bắt đầu của đoạn:\"))\n",
        "b=int(input(\"Mời nhập giá trị kết thúc của đoạn:\"))\n",
        "k=0\n",
        "lst=[]\n",
        "while k<n:\n",
        "  t=random.randrange(a,b+1)\n",
        "  lst.append(t)\n",
        "  k+=1\n",
        "print(\"Danh sách đã được sinh ngẫu nhiên là:\",lst)\n",
        "\n",
        "#Bước 2:\n",
        "x=int(input(\"Nhập vào 1 số bất kì trong đoạn [a,b]:\"))\n",
        "\n",
        "#Bước 3:\n",
        "for m in range(0,len(lst)):\n",
        "  for p in range(m+1,len(lst)):\n",
        "    if lst[m]>lst[p]:\n",
        "      lst[m],lst[p]=lst[p],lst[m]\n",
        "print(\"Danh sách sau khi được sắp xếp tăng dần là:\",lst)\n",
        "\n",
        "#Bước 4:\n",
        "ketqua=[]\n",
        "count=0\n",
        "for i in range(len(lst)):\n",
        "  if x== lst[i]:\n",
        "    ketqua.append(i)\n",
        "    count+=1\n",
        "if len(ketqua)>0:\n",
        "  print(\"Vị trí xuất hiện của\",x,\"là:\")\n",
        "  for l in ketqua:\n",
        "    print(l,end=\",\")\n",
        "  print(\"\\nSố bước lặp để tìm thấy phần tử là:\",count)\n",
        "else:\n",
        "  print(\"Không tìm thấy !\")\n",
        "\n"
      ],
      "execution_count": null,
      "outputs": [
        {
          "output_type": "stream",
          "name": "stdout",
          "text": [
            "Mời nhập số phần tử của danh sách:5\n",
            "Mời nhập giá trị bắt đầu của đoạn:1\n",
            "Mời nhập giá trị kết thúc của đoạn:10\n",
            "Danh sách đã được sinh ngẫu nhiên là: [6, 10, 8, 8, 10]\n",
            "Nhập vào 1 số bất kì trong đoạn [a,b]:8\n",
            "Danh sách sau khi được sắp xếp tăng dần là: [6, 8, 8, 10, 10]\n",
            "Vị trí xuất hiện của 8 là:\n",
            "1,2,\n",
            "Số bước lặp để tìm thấy phần tử là: 2\n"
          ]
        }
      ]
    }
  ]
}