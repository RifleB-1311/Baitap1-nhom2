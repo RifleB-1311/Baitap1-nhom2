{
  "nbformat": 4,
  "nbformat_minor": 0,
  "metadata": {
    "colab": {
      "name": "Baitaptailop01-nhom2.ipynb",
      "provenance": [],
      "authorship_tag": "ABX9TyM2KYbGci8gZlOijGRnpja/",
      "include_colab_link": true
    },
    "kernelspec": {
      "name": "python3",
      "display_name": "Python 3"
    },
    "language_info": {
      "name": "python"
    }
  },
  "cells": [
    {
      "cell_type": "markdown",
      "metadata": {
        "id": "view-in-github",
        "colab_type": "text"
      },
      "source": [
        "<a href=\"https://colab.research.google.com/github/RifleB-1311/Baitap1-nhom2/blob/main/Baitaptailop01_nhom2.ipynb\" target=\"_parent\"><img src=\"https://colab.research.google.com/assets/colab-badge.svg\" alt=\"Open In Colab\"/></a>"
      ]
    },
    {
      "cell_type": "code",
      "metadata": {
        "colab": {
          "base_uri": "https://localhost:8080/"
        },
        "id": "cVSyPdOOcoNn",
        "outputId": "7f71d153-7511-4f24-f7c3-dff63a1b11fe"
      },
      "source": [
        "print(\"Tuân thủ nguyên tắc 5K để phòng chống COVID\")"
      ],
      "execution_count": 1,
      "outputs": [
        {
          "output_type": "stream",
          "name": "stdout",
          "text": [
            "Tuân thủ nguyên tắc 5K để phòng chống COVID\n"
          ]
        }
      ]
    }
  ]
}