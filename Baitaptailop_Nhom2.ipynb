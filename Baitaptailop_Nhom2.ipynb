{
  "nbformat": 4,
  "nbformat_minor": 0,
  "metadata": {
    "colab": {
      "name": "Baitaptailop_Nhom2.ipynb",
      "provenance": [],
      "collapsed_sections": [],
      "authorship_tag": "ABX9TyOsl+8jfyxb14p2B8OBQJB5",
      "include_colab_link": true
    },
    "kernelspec": {
      "name": "python3",
      "display_name": "Python 3"
    },
    "language_info": {
      "name": "python"
    }
  },
  "cells": [
    {
      "cell_type": "markdown",
      "metadata": {
        "id": "view-in-github",
        "colab_type": "text"
      },
      "source": [
        "<a href=\"https://colab.research.google.com/github/RifleB-1311/Baitap1-nhom2/blob/main/Baitaptailop_Nhom2.ipynb\" target=\"_parent\"><img src=\"https://colab.research.google.com/assets/colab-badge.svg\" alt=\"Open In Colab\"/></a>"
      ]
    },
    {
      "cell_type": "markdown",
      "metadata": {
        "id": "BGbDr7c5HdJX"
      },
      "source": [
        "Bài 1:Viết chương trình tìm tất cả các số chia hết cho 7 nhưng không phải bội số của 5, nằm trong\n",
        "đoạn 10 và 200 (tính cả 10 và 200). Các số thu được sẽ được in ra màn hình."
      ]
    },
    {
      "cell_type": "code",
      "metadata": {
        "colab": {
          "base_uri": "https://localhost:8080/"
        },
        "id": "BP8aGtMF1Kgk",
        "outputId": "9ecfc632-0304-4320-ab0c-f7cb36729fb0"
      },
      "source": [
        "print(\"Các số chia hết cho 7 nhưng không phải bội số của 5 là:\")\n",
        "for i in range(10,201):\n",
        "  if (i%7==0) and (i%5!=0):\n",
        "    print(i,end=\",\")"
      ],
      "execution_count": 2,
      "outputs": [
        {
          "output_type": "stream",
          "name": "stdout",
          "text": [
            "Các số chia hết cho 7 nhưng không phải bội số của 5 là:\n",
            "14,21,28,42,49,56,63,77,84,91,98,112,119,126,133,147,154,161,168,182,189,196,"
          ]
        }
      ]
    },
    {
      "cell_type": "markdown",
      "metadata": {
        "id": "X6Ant5OEHfup"
      },
      "source": [
        "Bài 2:Viết một chương trình tính giai thừa của một số nguyên dương n. Với n được nhập từ bàn\n",
        "phím."
      ]
    },
    {
      "cell_type": "code",
      "metadata": {
        "id": "-QWYC8x92OGu",
        "colab": {
          "base_uri": "https://localhost:8080/"
        },
        "outputId": "bfcee41f-f933-4c42-dade-4d2ff80714fa"
      },
      "source": [
        "giaithua=1\n",
        "n=int(input(\"Nhập số nguyên dương:\"))\n",
        "while n<0:\n",
        "  print(\"Nhập sai, vui lòng nhập lại !!!\")\n",
        "  n=int(input(\"Nhập số nguyên dương:\"))\n",
        "for i in range(1,n+1):\n",
        "  giaithua=giaithua*i\n",
        "print(\"Giai thừa của\",n,\"là:\",giaithua)"
      ],
      "execution_count": 49,
      "outputs": [
        {
          "output_type": "stream",
          "name": "stdout",
          "text": [
            "Nhập số nguyên dương:-1\n",
            "Nhập sai, vui lòng nhập lại !!!\n",
            "Nhập số nguyên dương:8\n",
            "Giai thừa của 8 là: 40320\n"
          ]
        }
      ]
    },
    {
      "cell_type": "markdown",
      "metadata": {
        "id": "Dth0GbmAHovv"
      },
      "source": [
        "Bài 3:Dãy số Fibonacci được định nghĩa như sau: F0 = 0, F1 = 1, F2 = 1, Fn = F(n-1) + F(n-2)\n",
        "với n >= 2. Ví dụ: 0, 1, 1, 2, 3, 5, 8, ... Hãy viết chương trình tìm n số Fibonacci đầu tiên với n\n",
        "nhập vào từ bàn phím."
      ]
    },
    {
      "cell_type": "code",
      "metadata": {
        "colab": {
          "base_uri": "https://localhost:8080/"
        },
        "id": "c1wf4Sj5HrrH",
        "outputId": "a18a62cf-d83f-4a36-8651-973cf8da2866"
      },
      "source": [
        "n = int(input(\"Nhập n: \"))\n",
        "a = 0\n",
        "b = 1\n",
        "tong = 0\n",
        "dem = 1\n",
        "print(\"Dãy Fibonacci : \", end = \" \")\n",
        "while(dem <= n):\n",
        "  print(tong, end = \" \")\n",
        "  dem += 1\n",
        "  a = b\n",
        "  b = tong\n",
        "  tong = a + b"
      ],
      "execution_count": null,
      "outputs": [
        {
          "output_type": "stream",
          "name": "stdout",
          "text": [
            "Nhập số n Fibonacci: 4\n",
            "Dãy Fibonacci :  0 1 1 2 "
          ]
        }
      ]
    },
    {
      "cell_type": "markdown",
      "metadata": {
        "id": "aWfiplIAICVI"
      },
      "source": [
        "Bài 4:Viết chương trình liệt kê tất cả các số nguyên tố nhỏ hơn n. Số nguyên dương n được nhập\n",
        "từ bàn phím."
      ]
    },
    {
      "cell_type": "code",
      "metadata": {
        "colab": {
          "base_uri": "https://localhost:8080/"
        },
        "id": "aPZF3mkF3sOV",
        "outputId": "ab14f0ec-4e05-42f4-aeba-bce2f460ed63"
      },
      "source": [
        "n=int(input(\"Nhập số:\"))\n",
        "print(\"Tất cả các số nguyên tố nhỏ hơn\",n,\"là:\")\n",
        "for i in range(2,n):\n",
        "  for j in range(2,i):\n",
        "    if i % j ==0:\n",
        "      break\n",
        "  else:\n",
        "    print(i,end=\" \")\n"
      ],
      "execution_count": 46,
      "outputs": [
        {
          "output_type": "stream",
          "name": "stdout",
          "text": [
            "Nhập số:5\n",
            "Tất cả các số nguyên tố nhỏ hơn 5 là:\n",
            "2 3 "
          ]
        }
      ]
    },
    {
      "cell_type": "markdown",
      "metadata": {
        "id": "3Z5WJ404IFNI"
      },
      "source": [
        "Bài 5 :Viết chương trình liệt kê n số nguyên tố đầu tiên. Số nguyên dương n được nhập từ bàn\n",
        "phím."
      ]
    },
    {
      "cell_type": "code",
      "metadata": {
        "colab": {
          "base_uri": "https://localhost:8080/"
        },
        "id": "9lBVsioK6OdV",
        "outputId": "36a0b3bd-868e-4d2a-b968-e60195617275"
      },
      "source": [
        "i=1\n",
        "n = int(input(\"Nhập số:\"))\n",
        "for k in range (1, (n+1), 1):\n",
        "    c=0\n",
        "    for j in range (1, (i+1), 1):\n",
        "        a = i%j\n",
        "        if (a==0):\n",
        "            c = c+1\n",
        "    if (c==2):\n",
        "          print (i)\n",
        "    else:\n",
        "          k = k-1\n",
        "    i=i+1"
      ],
      "execution_count": 38,
      "outputs": [
        {
          "output_type": "stream",
          "name": "stdout",
          "text": [
            "Nhập số:6\n",
            "2\n",
            "3\n",
            "5\n"
          ]
        }
      ]
    },
    {
      "cell_type": "markdown",
      "metadata": {
        "id": "m7pzs_NTIJE5"
      },
      "source": [
        "Bài 6 :Viết chương trình liệt kê tất cả số nguyên tố có 5 chữ số."
      ]
    },
    {
      "cell_type": "code",
      "metadata": {
        "id": "FEVyEGOdIIIo"
      },
      "source": [
        "for i in range(10000, 100001):\n",
        "  for j in range(2, i):\n",
        "    if (i % j) == 0:\n",
        "      break\n",
        "  else:\n",
        "    print(i)\n"
      ],
      "execution_count": null,
      "outputs": []
    },
    {
      "cell_type": "markdown",
      "metadata": {
        "id": "MNYqBWJ9IpZA"
      },
      "source": [
        "Bài 7:Viết chương trình tính tổng của các chữ số của môt số nguyên n. Số nguyên dương n được\n",
        "nhập từ bàn phím."
      ]
    },
    {
      "cell_type": "code",
      "metadata": {
        "colab": {
          "base_uri": "https://localhost:8080/"
        },
        "id": "tlvwkx_aBJiY",
        "outputId": "a9b204f5-ac4a-4bf0-d744-9eeb3b5c5512"
      },
      "source": [
        "n=int(input(\"Nhập số:\"))\n",
        "tong=0\n",
        "while n>0:\n",
        "  tong=tong+n%10\n",
        "  n=n/10\n",
        "print(\"Tổng là:\",int(tong))"
      ],
      "execution_count": 25,
      "outputs": [
        {
          "output_type": "stream",
          "name": "stdout",
          "text": [
            "Nhập số:1501\n",
            "Tổng là: 7\n"
          ]
        }
      ]
    }
  ]
}