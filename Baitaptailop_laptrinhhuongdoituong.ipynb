{
  "nbformat": 4,
  "nbformat_minor": 0,
  "metadata": {
    "colab": {
      "name": "Baitaptailop_laptrinhhuongdoituong.ipynb",
      "provenance": [],
      "authorship_tag": "ABX9TyOHsnSnB33qglMxTm4GmsZN",
      "include_colab_link": true
    },
    "kernelspec": {
      "name": "python3",
      "display_name": "Python 3"
    },
    "language_info": {
      "name": "python"
    }
  },
  "cells": [
    {
      "cell_type": "markdown",
      "metadata": {
        "id": "view-in-github",
        "colab_type": "text"
      },
      "source": [
        "<a href=\"https://colab.research.google.com/github/RifleB-1311/Baitap1-nhom2/blob/main/Baitaptailop_laptrinhhuongdoituong.ipynb\" target=\"_parent\"><img src=\"https://colab.research.google.com/assets/colab-badge.svg\" alt=\"Open In Colab\"/></a>"
      ]
    },
    {
      "cell_type": "code",
      "metadata": {
        "colab": {
          "base_uri": "https://localhost:8080/"
        },
        "id": "c9nuR_vhkydu",
        "outputId": "4dd1c92f-19fd-4576-e73b-91e56bf20492"
      },
      "source": [
        "class Xemay:\n",
        "  phankhoi:int\n",
        "  tenxe:str\n",
        "  xuatxu:str\n",
        "\n",
        "  def __init__(self,cc,name,origin):\n",
        "    self.phankhoi=cc\n",
        "    self.tenxe=name\n",
        "    self.xuatxu=origin\n",
        "\n",
        "  def outputXemay(self) -> str:\n",
        "    result = \"Phân khối: \" + str(self.phankhoi) + \". Tên xe : \" + self.tenxe + \". Xuất xứ: \" + self.xuatxu \n",
        "    return result\n",
        "\n",
        "  def main():\n",
        "    cub = Xemay(50, \"Xe cub\", \"United State\")\n",
        "    honda = Xemay(100, \"Xe honda\", \"Japan\")\n",
        "    sh = Xemay(85, \"Xe SH\", \"Belgium\")\n",
        "    print(cub.outputXemay())\n",
        "    print(honda.outputXemay())\n",
        "    print(sh.outputXemay())\n",
        "\n",
        "if __name__ == \"__main__\":\n",
        "  main()"
      ],
      "execution_count": 3,
      "outputs": [
        {
          "output_type": "stream",
          "name": "stdout",
          "text": [
            "Phân khối: 50. Tên xe : Xe cub. Xuất xứ: United State\n",
            "Phân khối: 100. Tên xe : Xe honda. Xuất xứ: Japan\n",
            "Phân khối: 85. Tên xe : Xe SH. Xuất xứ: Belgium\n"
          ]
        }
      ]
    },
    {
      "cell_type": "code",
      "metadata": {
        "id": "IjZ1cQA2vAL7"
      },
      "source": [
        ""
      ],
      "execution_count": null,
      "outputs": []
    }
  ]
}