{
  "nbformat": 4,
  "nbformat_minor": 0,
  "metadata": {
    "colab": {
      "name": "Baitaptailop-phien1.ipynb",
      "provenance": [],
      "authorship_tag": "ABX9TyO1TMUW184EZPQMGvs1c21C",
      "include_colab_link": true
    },
    "kernelspec": {
      "name": "python3",
      "display_name": "Python 3"
    },
    "language_info": {
      "name": "python"
    }
  },
  "cells": [
    {
      "cell_type": "markdown",
      "metadata": {
        "id": "view-in-github",
        "colab_type": "text"
      },
      "source": [
        "<a href=\"https://colab.research.google.com/github/RifleB-1311/Baitap1-nhom2/blob/main/Baitaptailop_phien1.ipynb\" target=\"_parent\"><img src=\"https://colab.research.google.com/assets/colab-badge.svg\" alt=\"Open In Colab\"/></a>"
      ]
    },
    {
      "cell_type": "code",
      "metadata": {
        "colab": {
          "base_uri": "https://localhost:8080/"
        },
        "id": "uwNyG5bKOCqe",
        "outputId": "1ac695d8-af4f-4d6b-8b52-14aa82959153"
      },
      "source": [
        "#Truy cập các phần tử của List:\n",
        "lst1 = ['physics', 'chemistry', 1997, 2000]\n",
        "lst2 = [1, 2, 3, 4, 5, 6, 7 ]\n",
        "print(\"lst1[0]: \", lst1[0])\n",
        "print(\"lst2[1:5]: \", lst2[1:5])"
      ],
      "execution_count": 69,
      "outputs": [
        {
          "output_type": "stream",
          "name": "stdout",
          "text": [
            "lst1[0]:  physics\n",
            "lst2[1:5]:  [2, 3, 4, 5]\n"
          ]
        }
      ]
    },
    {
      "cell_type": "code",
      "metadata": {
        "colab": {
          "base_uri": "https://localhost:8080/"
        },
        "id": "46xAq6fdOjmz",
        "outputId": "e22d7107-518f-4d23-85fd-2fbb0f726888"
      },
      "source": [
        "#Thay đổi giá trị phần tử của List\n",
        "lst = ['physics', 'chemistry', 1997, 2000]\n",
        "print(\"Value available at index 2 : \")\n",
        "print(lst[2])\n",
        "lst[2] = 2001\n",
        "print(\"New value available at index 2 : \")\n",
        "print(lst[2])"
      ],
      "execution_count": 70,
      "outputs": [
        {
          "output_type": "stream",
          "name": "stdout",
          "text": [
            "Value available at index 2 : \n",
            "1997\n",
            "New value available at index 2 : \n",
            "2001\n"
          ]
        }
      ]
    },
    {
      "cell_type": "code",
      "metadata": {
        "colab": {
          "base_uri": "https://localhost:8080/"
        },
        "id": "tCsSObwQOrs8",
        "outputId": "915dacb7-4133-4dac-e388-651950a2ef72"
      },
      "source": [
        "#Xóa phần tử của List\n",
        "lst1 = ['physics', 'chemistry', 1997, 2000]\n",
        "print(lst1)\n",
        "del lst1[2]\n",
        "print(\"After deleting value at index 2 : \")\n",
        "print(lst1)"
      ],
      "execution_count": 71,
      "outputs": [
        {
          "output_type": "stream",
          "name": "stdout",
          "text": [
            "['physics', 'chemistry', 1997, 2000]\n",
            "After deleting value at index 2 : \n",
            "['physics', 'chemistry', 2000]\n"
          ]
        }
      ]
    },
    {
      "cell_type": "code",
      "metadata": {
        "colab": {
          "base_uri": "https://localhost:8080/"
        },
        "id": "x5Fs-HF4OzPC",
        "outputId": "de3f1b6f-11d4-4a42-e4ff-d0be94a3a8a5"
      },
      "source": [
        "lst=[1,2,3]      #len\n",
        "print(\"Độ dài của danh sách là\",len(lst))\n",
        "\n",
        "lst1=[4,5,6]    # nối\n",
        "print(\"Nối 2 danh sách:\",lst+lst1)\n",
        "\n",
        "print(\"Danh sách mở rộng\",lst*4)  #mở rộng\n",
        "\n",
        "print(1 in lst,\",1 nằm trong lst\") #Kiểm tra số 1 có nằm trong lst ko\n",
        "\n",
        "for a in lst:   #Duyệt từng phần tử\n",
        "  print(\"Các phần tử của lst là:\",a)"
      ],
      "execution_count": 10,
      "outputs": [
        {
          "output_type": "stream",
          "name": "stdout",
          "text": [
            "Độ dài của danh sách là 3\n",
            "Nối 2 danh sách: [1, 2, 3, 4, 5, 6]\n",
            "Danh sách mở rộng [1, 2, 3, 1, 2, 3, 1, 2, 3, 1, 2, 3]\n",
            "True ,1 nằm trong lst\n",
            "Các phần tử của lst là: 1\n",
            "Các phần tử của lst là: 2\n",
            "Các phần tử của lst là: 3\n"
          ]
        }
      ]
    },
    {
      "cell_type": "code",
      "metadata": {
        "colab": {
          "base_uri": "https://localhost:8080/"
        },
        "id": "HV43lFmWP7rN",
        "outputId": "43c68819-0d4a-4266-8bb1-8f46831ddf23"
      },
      "source": [
        "L = [1,2,3,4,5,6,7]       #Indexing & Slicing\n",
        "print(L[2])\n",
        "print(L[-2])\n",
        "print(L[1:])"
      ],
      "execution_count": 12,
      "outputs": [
        {
          "output_type": "stream",
          "name": "stdout",
          "text": [
            "3\n",
            "6\n",
            "[2, 3, 4, 5, 6, 7]\n"
          ]
        }
      ]
    },
    {
      "cell_type": "code",
      "metadata": {
        "colab": {
          "base_uri": "https://localhost:8080/"
        },
        "id": "D4u5Qn9BQPxS",
        "outputId": "962dc296-59cb-4a71-964a-c8cde3f1404b"
      },
      "source": [
        "lst1=[1,2,3]    \n",
        "lst2=[4,5,6]                                    # Max, Min\n",
        "print(\"Giá trị lớn nhất trong lst1 là:\", max(lst1))   \n",
        "print(\"Gía trị nhỏ nhất trong lst2 là:\",min(lst2))"
      ],
      "execution_count": 20,
      "outputs": [
        {
          "output_type": "stream",
          "name": "stdout",
          "text": [
            "Giá trị lớn nhất trong lst1 là: 3\n",
            "Gía trị nhỏ nhất trong lst2 là: 4\n"
          ]
        }
      ]
    },
    {
      "cell_type": "code",
      "metadata": {
        "colab": {
          "base_uri": "https://localhost:8080/"
        },
        "id": "OCy1td8YRbX1",
        "outputId": "0d63a1c4-d33d-4ba5-bd30-15be9da6827b"
      },
      "source": [
        "tup=(1,2,3,4)\n",
        "lst=[]\n",
        "for a in tup:     # Chuyển 1 tuple thành list\n",
        "  lst.append(a)\n",
        "print(lst)"
      ],
      "execution_count": 31,
      "outputs": [
        {
          "output_type": "stream",
          "name": "stdout",
          "text": [
            "[1, 2, 3, 4]\n"
          ]
        }
      ]
    },
    {
      "cell_type": "code",
      "metadata": {
        "colab": {
          "base_uri": "https://localhost:8080/"
        },
        "id": "cRdJ4uuASXeT",
        "outputId": "7c29db5b-4303-4d28-c9f6-f3941467bcd9"
      },
      "source": [
        "lst=[1,2,3,4]\n",
        "lst.append(\"Bách\")    #Thêm phần tử \n",
        "print(lst)"
      ],
      "execution_count": 41,
      "outputs": [
        {
          "output_type": "stream",
          "name": "stdout",
          "text": [
            "[1, 2, 3, 4, 'Bách']\n"
          ]
        }
      ]
    },
    {
      "cell_type": "code",
      "metadata": {
        "colab": {
          "base_uri": "https://localhost:8080/"
        },
        "id": "9DaEdkiGTKGk",
        "outputId": "6a4ee762-9e36-4b3c-aacc-add81bdde929"
      },
      "source": [
        "lst=[1,2,3,4,4,4]\n",
        "print(\"Số lần số 4 xuất hiện là\",lst.count(4))    # Đếm\n",
        "\n",
        "print(\"Chỉ số 3 có thứ tự là:\",lst.index(3))    #Lấy vị trí xuất hiện đầu tiên\n",
        "\n"
      ],
      "execution_count": 61,
      "outputs": [
        {
          "output_type": "stream",
          "name": "stdout",
          "text": [
            "Số lần số 4 xuất hiện là 3\n",
            "Chỉ số 3 có thứ tự là: 2\n"
          ]
        }
      ]
    },
    {
      "cell_type": "code",
      "metadata": {
        "colab": {
          "base_uri": "https://localhost:8080/"
        },
        "id": "-BG3mD4yVsnb",
        "outputId": "474687db-4ddf-4d1a-81b6-8c8879653837"
      },
      "source": [
        "lst1=[1,2,3]\n",
        "lst1.reverse()  # Đảo ngược\n",
        "print(lst1)"
      ],
      "execution_count": 62,
      "outputs": [
        {
          "output_type": "stream",
          "name": "stdout",
          "text": [
            "[3, 2, 1]\n"
          ]
        }
      ]
    },
    {
      "cell_type": "code",
      "metadata": {
        "colab": {
          "base_uri": "https://localhost:8080/"
        },
        "id": "QZiuij05V28t",
        "outputId": "76e32482-5b3f-49c8-bfc0-0b518f9e14d4"
      },
      "source": [
        "lst1=[4,5,6]\n",
        "lst1.remove(4)    #Xóa phần tử\n",
        "print(lst1)"
      ],
      "execution_count": 63,
      "outputs": [
        {
          "output_type": "stream",
          "name": "stdout",
          "text": [
            "[5, 6]\n"
          ]
        }
      ]
    },
    {
      "cell_type": "code",
      "metadata": {
        "colab": {
          "base_uri": "https://localhost:8080/"
        },
        "id": "5EaPQ4qxW0Ms",
        "outputId": "c09d5823-2393-40b1-c152-51ef452ba718"
      },
      "source": [
        "lst=[1,2,3,4]\n",
        "lst.extend(\"Bách\")    #Thêm 1 dãy \n",
        "print(lst)"
      ],
      "execution_count": 65,
      "outputs": [
        {
          "output_type": "stream",
          "name": "stdout",
          "text": [
            "[1, 2, 3, 4, 'B', 'á', 'c', 'h']\n"
          ]
        }
      ]
    },
    {
      "cell_type": "code",
      "metadata": {
        "colab": {
          "base_uri": "https://localhost:8080/"
        },
        "id": "zhMxThEHW_TZ",
        "outputId": "f61d247e-3067-47ca-a5f1-b8281deb7966"
      },
      "source": [
        "lst2=[1,2,3,4,5]\n",
        "lst2.insert(2,\"Bách\")   # Chèn vào 1 vị trí\n",
        "print(lst2)"
      ],
      "execution_count": 68,
      "outputs": [
        {
          "output_type": "stream",
          "name": "stdout",
          "text": [
            "[1, 2, 'Bách', 3, 4, 5]\n"
          ]
        }
      ]
    }
  ]
}