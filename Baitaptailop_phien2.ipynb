{
  "nbformat": 4,
  "nbformat_minor": 0,
  "metadata": {
    "colab": {
      "name": "Baitaptailop-phien2.ipynb",
      "provenance": [],
      "authorship_tag": "ABX9TyNuClqIbWQGDJ8U8RkB0e+/",
      "include_colab_link": true
    },
    "kernelspec": {
      "name": "python3",
      "display_name": "Python 3"
    },
    "language_info": {
      "name": "python"
    }
  },
  "cells": [
    {
      "cell_type": "markdown",
      "metadata": {
        "id": "view-in-github",
        "colab_type": "text"
      },
      "source": [
        "<a href=\"https://colab.research.google.com/github/RifleB-1311/Baitap1-nhom2/blob/main/Baitaptailop_phien2.ipynb\" target=\"_parent\"><img src=\"https://colab.research.google.com/assets/colab-badge.svg\" alt=\"Open In Colab\"/></a>"
      ]
    },
    {
      "cell_type": "markdown",
      "metadata": {
        "id": "xdk4t4Jmgkmn"
      },
      "source": [
        "Kiểu tuple"
      ]
    },
    {
      "cell_type": "code",
      "metadata": {
        "colab": {
          "base_uri": "https://localhost:8080/"
        },
        "id": "ha73_xPgcXfx",
        "outputId": "bdf28026-ecaa-4e8b-ac48-4b22095c59b5"
      },
      "source": [
        "tup1 = ('physics', 'chemistry', 1997, 2000)     # Truy cập các phần tử của Tuples\n",
        "tup2 = (1, 2, 3, 4, 5, 6, 7 )     \n",
        "print(\"tup1[0]: \", tup1[0])             \n",
        "print(\"tup2[1:5]: \", tup2[1:5])"
      ],
      "execution_count": 3,
      "outputs": [
        {
          "output_type": "stream",
          "name": "stdout",
          "text": [
            "tup1[0]:  physics\n",
            "tup2[1:5]:  (2, 3, 4, 5)\n"
          ]
        }
      ]
    },
    {
      "cell_type": "code",
      "metadata": {
        "colab": {
          "base_uri": "https://localhost:8080/"
        },
        "id": "eIMUFHF9dgjI",
        "outputId": "515e6ab3-566e-4354-a476-cfa523f6d960"
      },
      "source": [
        "tup1 = (12, 34.56)        # Thay đổi giá trị phần tử của Tuples\n",
        "tup2 = ('abc', 'xyz')\n",
        "tup3 = tup1 + tup2\n",
        "print(tup3)"
      ],
      "execution_count": 2,
      "outputs": [
        {
          "output_type": "stream",
          "name": "stdout",
          "text": [
            "(12, 34.56, 'abc', 'xyz')\n"
          ]
        }
      ]
    },
    {
      "cell_type": "code",
      "metadata": {
        "colab": {
          "base_uri": "https://localhost:8080/",
          "height": 212
        },
        "id": "RrJWNaLxdtGn",
        "outputId": "81cc025e-25be-4a24-ca61-82ecd95c3975"
      },
      "source": [
        "tup = ('physics', 'chemistry', 1997, 2000)        # Xóa phần tử của Tuples\n",
        "print(tup)\n",
        "del tup\n",
        "print(\"After deleting tup : \",tup)    # tup đã được xóa nên sẽ ko còn tồn tại\n"
      ],
      "execution_count": 9,
      "outputs": [
        {
          "output_type": "stream",
          "name": "stdout",
          "text": [
            "('physics', 'chemistry', 1997, 2000)\n"
          ]
        },
        {
          "output_type": "error",
          "ename": "NameError",
          "evalue": "ignored",
          "traceback": [
            "\u001b[0;31m---------------------------------------------------------------------------\u001b[0m",
            "\u001b[0;31mNameError\u001b[0m                                 Traceback (most recent call last)",
            "\u001b[0;32m<ipython-input-9-f78705c0adc6>\u001b[0m in \u001b[0;36m<module>\u001b[0;34m()\u001b[0m\n\u001b[1;32m      2\u001b[0m \u001b[0mprint\u001b[0m\u001b[0;34m(\u001b[0m\u001b[0mtup\u001b[0m\u001b[0;34m)\u001b[0m\u001b[0;34m\u001b[0m\u001b[0;34m\u001b[0m\u001b[0m\n\u001b[1;32m      3\u001b[0m \u001b[0;32mdel\u001b[0m \u001b[0mtup\u001b[0m\u001b[0;34m\u001b[0m\u001b[0;34m\u001b[0m\u001b[0m\n\u001b[0;32m----> 4\u001b[0;31m \u001b[0mprint\u001b[0m\u001b[0;34m(\u001b[0m\u001b[0;34m\"After deleting tup : \"\u001b[0m\u001b[0;34m,\u001b[0m\u001b[0mtup\u001b[0m\u001b[0;34m)\u001b[0m\u001b[0;34m\u001b[0m\u001b[0;34m\u001b[0m\u001b[0m\n\u001b[0m",
            "\u001b[0;31mNameError\u001b[0m: name 'tup' is not defined"
          ]
        }
      ]
    },
    {
      "cell_type": "code",
      "metadata": {
        "colab": {
          "base_uri": "https://localhost:8080/"
        },
        "id": "LectnLMReQ2p",
        "outputId": "d6624871-dcfc-47be-ec4b-0dd26c644fbf"
      },
      "source": [
        "print(\"Độ dài:\",len((1, 2, 3)))   # Lấy số phần tử\n",
        "\n",
        "print(\"Nối:\",(1, 2, 3) + (4, 5, 6))      # Nối\n",
        "\n",
        "print((\"Hi\") * 3)    #Mở rộng Tuples hiện tại lên gấp 3 lần\n",
        "\n",
        "print(3 in (1, 2, 3))   #Kiểm tra giá trị 3 có trong Tuples hay không\n",
        "\n",
        "for x in (1, 2, 3): \n",
        "  print(x)            # Duyệt từng phần tử"
      ],
      "execution_count": 17,
      "outputs": [
        {
          "output_type": "stream",
          "name": "stdout",
          "text": [
            "Độ dài: 3\n",
            "Nối: (1, 2, 3, 4, 5, 6)\n",
            "HiHiHi\n",
            "True\n",
            "1\n",
            "2\n",
            "3\n"
          ]
        }
      ]
    },
    {
      "cell_type": "code",
      "metadata": {
        "colab": {
          "base_uri": "https://localhost:8080/"
        },
        "id": "EpB0VnLsfEag",
        "outputId": "a72ddb0b-0d98-4cac-9f90-6b1bc195d44e"
      },
      "source": [
        "T = (\"Red\", \"Yellow\", \"Green\")\n",
        "print(T[2])               #Indexing & Slicing\n",
        "print(T[-2])\n",
        "print(T[1:])"
      ],
      "execution_count": 19,
      "outputs": [
        {
          "output_type": "stream",
          "name": "stdout",
          "text": [
            "Green\n",
            "Yellow\n",
            "('Yellow', 'Green')\n"
          ]
        }
      ]
    },
    {
      "cell_type": "code",
      "metadata": {
        "colab": {
          "base_uri": "https://localhost:8080/"
        },
        "id": "yA8i-03tfXuH",
        "outputId": "f82190e1-10e6-4993-df3f-da9ec111cbb1"
      },
      "source": [
        "t1=(1,2,3)\n",
        "print(\"Giá trị lớn nhất:\",max(t1))    # Max\n",
        "print(\"Giá trị nhỏ nhất:\",min(t1))    #Min"
      ],
      "execution_count": 21,
      "outputs": [
        {
          "output_type": "stream",
          "name": "stdout",
          "text": [
            "Giá trị lớn nhất: 3\n",
            "Giá trị nhỏ nhất: 1\n"
          ]
        }
      ]
    },
    {
      "cell_type": "code",
      "metadata": {
        "colab": {
          "base_uri": "https://localhost:8080/"
        },
        "id": "1OZSmFlOgGgR",
        "outputId": "934a1327-97e2-43e7-f3c1-29c229aa4ee5"
      },
      "source": [
        "lst=[1,2,3,4,5]\n",
        "tup=tuple(lst)      # Biến 1 list thành 1 tuple\n",
        "print(tup)"
      ],
      "execution_count": 24,
      "outputs": [
        {
          "output_type": "stream",
          "name": "stdout",
          "text": [
            "(1, 2, 3, 4, 5)\n"
          ]
        }
      ]
    },
    {
      "cell_type": "markdown",
      "metadata": {
        "id": "HbDm9cnggnN3"
      },
      "source": [
        "Kiểu Dictionary"
      ]
    },
    {
      "cell_type": "code",
      "metadata": {
        "colab": {
          "base_uri": "https://localhost:8080/"
        },
        "id": "BD7bZj-zgo6Y",
        "outputId": "a30de596-4d7e-405b-f157-4348b06c5152"
      },
      "source": [
        "dict1 = {'Name': 'Zara', 'Age': 7, 'Class': 'First'}\n",
        "dict1['Age'] = 8; # update existing entry\n",
        "dict1['School'] = \"DPS School\"; # Add new entry          #Thay đổi giá trị phần tử\n",
        "print(\"dict1['Age']: \", dict1['Age'])\n",
        "print(\"dict1['School']: \", dict1['School'])"
      ],
      "execution_count": 40,
      "outputs": [
        {
          "output_type": "stream",
          "name": "stdout",
          "text": [
            "dict1['Age']:  8\n",
            "dict1['School']:  DPS School\n"
          ]
        }
      ]
    },
    {
      "cell_type": "code",
      "metadata": {
        "colab": {
          "base_uri": "https://localhost:8080/",
          "height": 229
        },
        "id": "fUmAN77xgulZ",
        "outputId": "9dc7f2c4-f032-4b41-8c35-817e106e446a"
      },
      "source": [
        "dct = {'Name': 'Zara', 'Age': 7, 'Class': 'First'}\n",
        "del dct['Name']         # remove entry with key 'Name'\n",
        "print(dct)\n",
        "\n",
        "dct.clear()\n",
        "print(dct)  # remove all entries in dict\n",
        "\n",
        "del dct\n",
        "print(dct)  # delete entire dictionary"
      ],
      "execution_count": 31,
      "outputs": [
        {
          "output_type": "stream",
          "name": "stdout",
          "text": [
            "{'Age': 7, 'Class': 'First'}\n",
            "{}\n"
          ]
        },
        {
          "output_type": "error",
          "ename": "NameError",
          "evalue": "ignored",
          "traceback": [
            "\u001b[0;31m---------------------------------------------------------------------------\u001b[0m",
            "\u001b[0;31mNameError\u001b[0m                                 Traceback (most recent call last)",
            "\u001b[0;32m<ipython-input-31-9560534eaa5e>\u001b[0m in \u001b[0;36m<module>\u001b[0;34m()\u001b[0m\n\u001b[1;32m      7\u001b[0m \u001b[0;34m\u001b[0m\u001b[0m\n\u001b[1;32m      8\u001b[0m \u001b[0;32mdel\u001b[0m \u001b[0mdct\u001b[0m\u001b[0;34m\u001b[0m\u001b[0;34m\u001b[0m\u001b[0m\n\u001b[0;32m----> 9\u001b[0;31m \u001b[0mprint\u001b[0m\u001b[0;34m(\u001b[0m\u001b[0mdct\u001b[0m\u001b[0;34m)\u001b[0m\u001b[0;34m\u001b[0m\u001b[0;34m\u001b[0m\u001b[0m\n\u001b[0m",
            "\u001b[0;31mNameError\u001b[0m: name 'dct' is not defined"
          ]
        }
      ]
    },
    {
      "cell_type": "code",
      "metadata": {
        "colab": {
          "base_uri": "https://localhost:8080/"
        },
        "id": "qL72WdNUhdtx",
        "outputId": "d76e2438-42c4-43f4-9a36-b749264b4092"
      },
      "source": [
        "d1={\"Bách\":\"Nam\",\"Hòa\":\"Nữ\"}\n",
        "print(\"Độ dài của d1 là:\",len(d1))    #Tổng số các phần tử của d1\n",
        "\n",
        "change=str(d1)\n",
        "print(change)     #Chuyển dictionary d1 thành chuỗi string"
      ],
      "execution_count": 39,
      "outputs": [
        {
          "output_type": "stream",
          "name": "stdout",
          "text": [
            "Độ dài của d1 là: 2\n",
            "{'Bách': 'Nam', 'Hòa': 'Nữ'}\n"
          ]
        }
      ]
    },
    {
      "cell_type": "code",
      "metadata": {
        "colab": {
          "base_uri": "https://localhost:8080/"
        },
        "id": "JMwODfzgi1gJ",
        "outputId": "4eba7c59-dc14-4cda-c60e-c9a7b5da2daa"
      },
      "source": [
        "dict1 = {'Name': 'Zara', 'Age': 7, 'Class': 'First'}\n",
        "print(dict1.copy())     #Sao chép Dictionary\n",
        "\n",
        "print(dict1.get(\"Age\"))   # Trả về value tương ứng với key\n",
        "\n",
        "print(dict1.items())    # Trả về 1 List các phần tử là các tuples (key, value)\n",
        "\n",
        "print(dict1.keys())     #Trả vể 1 List các phần tử là các key\n",
        "\n",
        "print(dict1.values())   #Trả về 1 List các phần tử là các value"
      ],
      "execution_count": 62,
      "outputs": [
        {
          "output_type": "stream",
          "name": "stdout",
          "text": [
            "{'Name': 'Zara', 'Age': 7, 'Class': 'First'}\n",
            "7\n",
            "dict_items([('Name', 'Zara'), ('Age', 7), ('Class', 'First')])\n",
            "dict_keys(['Name', 'Age', 'Class'])\n",
            "dict_values(['Zara', 7, 'First'])\n"
          ]
        }
      ]
    },
    {
      "cell_type": "markdown",
      "metadata": {
        "id": "dY7zTNBjl77m"
      },
      "source": [
        "Kiểu Set"
      ]
    },
    {
      "cell_type": "code",
      "metadata": {
        "colab": {
          "base_uri": "https://localhost:8080/"
        },
        "id": "sdGBfx5Al6nL",
        "outputId": "aa5e7642-ad28-4497-eaeb-72e1bfba0600"
      },
      "source": [
        "people = {\"Jay\", \"Idrish\", \"Archi\"}\n",
        "print(\"People: \")\n",
        "print(people)\n",
        "people.add(\"Daxit\")           # Thêm phần tử\n",
        "for i in range(1, 6):\n",
        "  people.add(i)\n",
        "print(\"\\nSet after adding element:\", end = \" \")\n",
        "print(people)"
      ],
      "execution_count": 64,
      "outputs": [
        {
          "output_type": "stream",
          "name": "stdout",
          "text": [
            "People: \n",
            "{'Idrish', 'Jay', 'Archi'}\n",
            "\n",
            "Set after adding element: {1, 2, 'Jay', 3, 4, 'Daxit', 5, 'Archi', 'Idrish'}\n"
          ]
        }
      ]
    },
    {
      "cell_type": "code",
      "metadata": {
        "colab": {
          "base_uri": "https://localhost:8080/"
        },
        "id": "o3prKJafmPBv",
        "outputId": "ea6539b4-5d72-498c-b978-22d1cbbde0ba"
      },
      "source": [
        "Days=set([\"Mon\",\"Tue\",\"Wed\",\"Thu\",\"Fri\",\"Sat\"])\n",
        "Days.discard(\"Sun\")                 # Bớt phần tử\n",
        "print(Days)"
      ],
      "execution_count": 65,
      "outputs": [
        {
          "output_type": "stream",
          "name": "stdout",
          "text": [
            "{'Tue', 'Sat', 'Wed', 'Fri', 'Thu', 'Mon'}\n"
          ]
        }
      ]
    },
    {
      "cell_type": "code",
      "metadata": {
        "colab": {
          "base_uri": "https://localhost:8080/"
        },
        "id": "vkYfvchumTX3",
        "outputId": "b70f6897-52c2-4509-9d5e-d8488c213e63"
      },
      "source": [
        "set1 = {1,2,3,4,5,6}\n",
        "print(\"Initial set\")\n",
        "print(set1)\n",
        "set1.clear()        #Xóa toàn bộ\n",
        "print(\"\\nSet after using clear() function\")\n",
        "print(set1)\n"
      ],
      "execution_count": 67,
      "outputs": [
        {
          "output_type": "stream",
          "name": "stdout",
          "text": [
            "Initial set\n",
            "{1, 2, 3, 4, 5, 6}\n",
            "\n",
            "Set after using clear() function\n",
            "set()\n"
          ]
        }
      ]
    },
    {
      "cell_type": "code",
      "metadata": {
        "colab": {
          "base_uri": "https://localhost:8080/"
        },
        "id": "qeKEUK6umch_",
        "outputId": "5b71e64a-1744-481f-d470-7c425e865a82"
      },
      "source": [
        "people = {\"Jay\", \"Idrish\", \"Archil\"}\n",
        "vampires = {\"Karan\", \"Arjun\"}               #Phép hợp\n",
        "dracula = {\"Deepanshu\", \"Raju\"}\n",
        "\n",
        "population = people.union(vampires)\n",
        "print(\"Union using union() function\")   # Union using union() function\n",
        "print(population)\n",
        "\n",
        "population = people|dracula\n",
        "print(\"\\nUnion using '|' operator\")     # Union using \"|\" operator\n",
        "print(population)"
      ],
      "execution_count": 70,
      "outputs": [
        {
          "output_type": "stream",
          "name": "stdout",
          "text": [
            "Union using union() function\n",
            "{'Arjun', 'Jay', 'Archil', 'Idrish', 'Karan'}\n"
          ]
        }
      ]
    },
    {
      "cell_type": "code",
      "metadata": {
        "colab": {
          "base_uri": "https://localhost:8080/"
        },
        "id": "uK72GJtRm0Vv",
        "outputId": "9a1ec03d-7997-42bb-a155-2b96643e8cfd"
      },
      "source": [
        "set1 = set()\n",
        "for i in range(5):\n",
        "  set1.add(i)                   #Phép giao\n",
        "set2 = {3, 4, 5, 6, 7, 8}\n",
        "\n",
        "set3 = set1.intersection(set2)\n",
        "print(\"Intersection using intersection() function\")   # Intersection using intersection() function\n",
        "print(set3)\n",
        "\n",
        "set3 = set1 & set2\n",
        "print(\"\\nIntersection using '&' operator\")            # Intersection using \"&\" operator\n",
        "print(set3)"
      ],
      "execution_count": 71,
      "outputs": [
        {
          "output_type": "stream",
          "name": "stdout",
          "text": [
            "Intersection using intersection() function\n",
            "{3, 4}\n",
            "\n",
            "Intersection using '&' operator\n",
            "{3, 4}\n"
          ]
        }
      ]
    },
    {
      "cell_type": "code",
      "metadata": {
        "colab": {
          "base_uri": "https://localhost:8080/"
        },
        "id": "B8BRncfJnCk3",
        "outputId": "a38bf84b-f3c7-43c0-ae6b-efca6c17f05b"
      },
      "source": [
        "set1 = set()\n",
        "for i in range(5):            #Phép hiệu\n",
        "  set1.add(i)\n",
        "set2 = {3, 4, 5, 6, 7, 8}\n",
        "\n",
        "set3 = set1.difference(set2)\n",
        "print(\" Difference of two sets using difference() function\")      #Difference of two sets using difference() function\n",
        "print(set3)\n",
        "\n",
        "set3 = set1 - set2\n",
        "print(\"\\nDifference of two sets using '-' operator\")              #Difference of two sets using '-' operator\n",
        "print(set3)"
      ],
      "execution_count": 72,
      "outputs": [
        {
          "output_type": "stream",
          "name": "stdout",
          "text": [
            " Difference of two sets using difference() function\n",
            "{0, 1, 2}\n",
            "\n",
            "Difference of two sets using '-' operator\n",
            "{0, 1, 2}\n"
          ]
        }
      ]
    },
    {
      "cell_type": "code",
      "metadata": {
        "colab": {
          "base_uri": "https://localhost:8080/"
        },
        "id": "UhYr5TcrnREP",
        "outputId": "86e64bc2-3514-4cd5-de40-06dbcb058207"
      },
      "source": [
        "DaysA = set([\"Mon\",\"Tue\",\"Wed\"])\n",
        "DaysB = set([\"Mon\",\"Tue\",\"Wed\",\"Thu\",\"Fri\",\"Sat\",\"Sun\"])\n",
        "SubsetRes = DaysA <= DaysB                                    # Kiểm tra tập con - tập cha\n",
        "SupersetRes = DaysB >= DaysA\n",
        "print(SubsetRes)\n",
        "print(SupersetRes)"
      ],
      "execution_count": 73,
      "outputs": [
        {
          "output_type": "stream",
          "name": "stdout",
          "text": [
            "True\n",
            "True\n"
          ]
        }
      ]
    },
    {
      "cell_type": "markdown",
      "metadata": {
        "id": "QQ7sllVAnWlV"
      },
      "source": [
        "Kiểu Date & Time"
      ]
    },
    {
      "cell_type": "code",
      "metadata": {
        "colab": {
          "base_uri": "https://localhost:8080/"
        },
        "id": "Nb42HlSYnVT3",
        "outputId": "2b1d9d4e-41f3-4506-e454-c93934fb9cc5"
      },
      "source": [
        "import time; # This is required to include time module.\n",
        "ticks = time.time()                                           #Lấy thời gian hiện tại\n",
        "print(\"Number of ticks since 12:00am, January 1, 1970:\", ticks)\n",
        "\n",
        "localtime = time.localtime(time.time())\n",
        "print(\"Local current time :\", localtime)"
      ],
      "execution_count": 82,
      "outputs": [
        {
          "output_type": "stream",
          "name": "stdout",
          "text": [
            "Number of ticks since 12:00am, January 1, 1970: 1636963690.6844618\n",
            "Local current time : time.struct_time(tm_year=2021, tm_mon=11, tm_mday=15, tm_hour=8, tm_min=8, tm_sec=10, tm_wday=0, tm_yday=319, tm_isdst=0)\n"
          ]
        }
      ]
    },
    {
      "cell_type": "code",
      "metadata": {
        "colab": {
          "base_uri": "https://localhost:8080/"
        },
        "id": "fQVl6NN4nnAW",
        "outputId": "c96e5933-cc8b-49d6-b0c0-43f5246b2b3f"
      },
      "source": [
        "import time;\n",
        "localtime = time.asctime( time.localtime(time.time()) )     # Định dạng thời gian\n",
        "print(\"Local current time :\", localtime)                "
      ],
      "execution_count": 81,
      "outputs": [
        {
          "output_type": "stream",
          "name": "stdout",
          "text": [
            "Local current time : Mon Nov 15 08:07:03 2021\n"
          ]
        }
      ]
    },
    {
      "cell_type": "code",
      "metadata": {
        "colab": {
          "base_uri": "https://localhost:8080/"
        },
        "id": "JPBmE2Obnx5o",
        "outputId": "d5e1ccfa-d3d2-4d3f-c440-2d8ad03a3b02"
      },
      "source": [
        "import calendar\n",
        "cal = calendar.month(2021, 11)       # Lấy lịch 1 tháng\n",
        "print(\"Here is the calendar:\")\n",
        "print(cal)"
      ],
      "execution_count": 83,
      "outputs": [
        {
          "output_type": "stream",
          "name": "stdout",
          "text": [
            "Here is the calendar:\n",
            "   November 2021\n",
            "Mo Tu We Th Fr Sa Su\n",
            " 1  2  3  4  5  6  7\n",
            " 8  9 10 11 12 13 14\n",
            "15 16 17 18 19 20 21\n",
            "22 23 24 25 26 27 28\n",
            "29 30\n",
            "\n"
          ]
        }
      ]
    }
  ]
}