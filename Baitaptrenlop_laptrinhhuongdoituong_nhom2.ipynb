{
  "nbformat": 4,
  "nbformat_minor": 0,
  "metadata": {
    "colab": {
      "name": "Baitaptrenlop_laptrinhhuongdoituong_nhom2.ipynb",
      "provenance": [],
      "authorship_tag": "ABX9TyPPqoX6HxgkKCi83hACp6vM",
      "include_colab_link": true
    },
    "kernelspec": {
      "name": "python3",
      "display_name": "Python 3"
    },
    "language_info": {
      "name": "python"
    }
  },
  "cells": [
    {
      "cell_type": "markdown",
      "metadata": {
        "id": "view-in-github",
        "colab_type": "text"
      },
      "source": [
        "<a href=\"https://colab.research.google.com/github/RifleB-1311/Baitap1-nhom2/blob/main/Baitaptrenlop_laptrinhhuongdoituong_nhom2.ipynb\" target=\"_parent\"><img src=\"https://colab.research.google.com/assets/colab-badge.svg\" alt=\"Open In Colab\"/></a>"
      ]
    },
    {
      "cell_type": "code",
      "metadata": {
        "colab": {
          "base_uri": "https://localhost:8080/"
        },
        "id": "hV9_LRta10Nd",
        "outputId": "01ab4a3a-dea2-4749-8810-e3924bc4eb52"
      },
      "source": [
        "class Person:\n",
        "  name:str\n",
        "  gender:str\n",
        "  phone:str\n",
        "\n",
        "  def __init__(self, ten, gioitinh, sdt) -> None:\n",
        "        super().__init__()\n",
        "        self.name= ten\n",
        "        self.gender = gioitinh\n",
        "        self.phone = sdt\n",
        "\n",
        "  def outputPerson(self) -> str:\n",
        "        result = \"Tên: \" + str(self.name) + \" .Giới tính: \" + str(self.gender) + \" .Số điện thoại: \" + str(self.phone) \n",
        "        return result\n",
        "\n",
        "class Student(Person):\n",
        "  studentID:int\n",
        "  classs:str\n",
        "\n",
        "  def __init__(self, ten, gioitinh, sdt,MaSV,lop) -> None:\n",
        "      Person.__init__(self, ten, gioitinh, sdt)\n",
        "      self.studentID = MaSV\n",
        "      self.classs = lop\n",
        "\n",
        "  def outputStudent(self) -> str:\n",
        "      result = self.outputPerson() + \" .Mã số sinh viên: \" + str(self.studentID) + \" .Lớp: \" +self.classs\n",
        "      return result\n",
        "\n",
        "class Lecturer(Person):\n",
        "  lecturerID:int\n",
        "  yearsOfExperience:int\n",
        "\n",
        "  def __init__(self, ten, gioitinh, sdt, MaGV,namkinhnghiem) -> None:\n",
        "        Person.__init__(self, ten, gioitinh, sdt)\n",
        "        self.lecturerID = MaGV\n",
        "        self.yearsOfExperience = namkinhnghiem\n",
        "\n",
        "  def outputLecturer(self) -> str:\n",
        "        result = self.outputPerson() + \" .Mã giảng viên: \" + str(self.lecturerID) + \" .Số năm kinh nghiệm \" + str(self.yearsOfExperience)\n",
        "        return result\n",
        "def main():\n",
        "    bach = Person(\"Mai Zăn Bách\", \"Nam\",\"01111111111\" )\n",
        "    trungdeptrai = Student(\"Lê Nguyễn Huệ\",\"Nữ\" , \"022222222\", 1234, \"Lớp AI & DS K2\")\n",
        "    cuong = Lecturer(\"Nguyễn Đinh Hoa Cương\", \"Nam\", \"03333333\", 12345,\"Hue University\")\n",
        "    print(bach.outputPerson())\n",
        "    print(trungdeptrai.outputStudent())\n",
        "    print(cuong.outputLecturer())\n",
        "\n",
        "if __name__ == \"__main__\":\n",
        "  main()"
      ],
      "execution_count": 7,
      "outputs": [
        {
          "output_type": "stream",
          "name": "stdout",
          "text": [
            "Tên: Mai Zăn Bách .Giới tính: Nam .Số điện thoại: 01111111111\n",
            "Tên: Lê Nguyễn Huệ .Giới tính: Nữ .Số điện thoại: 022222222 .Mã số sinh viên: 1234 .Lớp: Lớp AI & DS K2\n",
            "Tên: Nguyễn Đinh Hoa Cương .Giới tính: Nam .Số điện thoại: 03333333 .Mã giảng viên: 12345 .Số năm kinh nghiệm Hue University\n"
          ]
        }
      ]
    }
  ]
}