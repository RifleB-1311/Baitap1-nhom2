{
  "nbformat": 4,
  "nbformat_minor": 0,
  "metadata": {
    "colab": {
      "name": "Untitled17.ipynb",
      "provenance": [],
      "authorship_tag": "ABX9TyOaTi8S2nGVAAmdMRB8dDHX",
      "include_colab_link": true
    },
    "kernelspec": {
      "name": "python3",
      "display_name": "Python 3"
    },
    "language_info": {
      "name": "python"
    }
  },
  "cells": [
    {
      "cell_type": "markdown",
      "metadata": {
        "id": "view-in-github",
        "colab_type": "text"
      },
      "source": [
        "<a href=\"https://colab.research.google.com/github/RifleB-1311/Baitap1-nhom2/blob/main/Untitled17.ipynb\" target=\"_parent\"><img src=\"https://colab.research.google.com/assets/colab-badge.svg\" alt=\"Open In Colab\"/></a>"
      ]
    },
    {
      "cell_type": "markdown",
      "metadata": {
        "id": "E6kS359V-9O7"
      },
      "source": [
        "Exercise 1: Print First 10 natural numbers using while loop"
      ]
    },
    {
      "cell_type": "code",
      "metadata": {
        "colab": {
          "base_uri": "https://localhost:8080/"
        },
        "id": "ZO_C9lBo-802",
        "outputId": "ee4b943a-32eb-41c6-ca25-50874395560e"
      },
      "source": [
        "i=0\n",
        "while i<10:\n",
        "  print(i,end=\" \")\n",
        "  i+=1"
      ],
      "execution_count": 35,
      "outputs": [
        {
          "output_type": "stream",
          "name": "stdout",
          "text": [
            "0 1 2 3 4 5 6 7 8 9 "
          ]
        }
      ]
    },
    {
      "cell_type": "markdown",
      "metadata": {
        "id": "Ym9t23N6-ZiE"
      },
      "source": [
        "Bài 2:"
      ]
    },
    {
      "cell_type": "code",
      "metadata": {
        "colab": {
          "base_uri": "https://localhost:8080/"
        },
        "id": "4gjxcI8ro0K6",
        "outputId": "06d6aa75-02b7-4e2e-f1a2-b1e390048ac8"
      },
      "source": [
        "i = 0\n",
        "while i < 5:\n",
        "  for j in range(5-i,0,-1):\n",
        "    print(j,end=\" \")\n",
        "  print(\"\\n\")\n",
        "  i+=1\n",
        "\n"
      ],
      "execution_count": 39,
      "outputs": [
        {
          "output_type": "stream",
          "name": "stdout",
          "text": [
            "5 4 3 2 1 \n",
            "\n",
            "4 3 2 1 \n",
            "\n",
            "3 2 1 \n",
            "\n",
            "2 1 \n",
            "\n",
            "1 \n",
            "\n"
          ]
        }
      ]
    },
    {
      "cell_type": "markdown",
      "metadata": {
        "id": "VhRS9iDd_jd8"
      },
      "source": [
        "Exercise 3: Calculate the sum of all numbers from 1 to a given number"
      ]
    },
    {
      "cell_type": "code",
      "metadata": {
        "colab": {
          "base_uri": "https://localhost:8080/"
        },
        "id": "dl6RjuE3_mUG",
        "outputId": "d90744e6-4142-4b39-b3ff-df50023b90ca"
      },
      "source": [
        "n=int(input(\"Nhập số:\"))\n",
        "tong=0\n",
        "for i in range(1,n+1):\n",
        "  tong=tong+i\n",
        "print(\"Tổng các số từ 1 tới\",n,\"là:\",tong)"
      ],
      "execution_count": 34,
      "outputs": [
        {
          "output_type": "stream",
          "name": "stdout",
          "text": [
            "Nhập số:5\n",
            "Tổng các số từ 1 tới 5 là: 15\n"
          ]
        }
      ]
    },
    {
      "cell_type": "markdown",
      "metadata": {
        "id": "ktBLp-mT_cwV"
      },
      "source": [
        "Exercise 4: Write a program to print multiplication table of a given number with natural numbers\n",
        "from 1 to 10."
      ]
    },
    {
      "cell_type": "code",
      "metadata": {
        "colab": {
          "base_uri": "https://localhost:8080/"
        },
        "id": "5uLBatX_zd8C",
        "outputId": "d5c8fc0a-06dd-4287-d21e-95fa4ac8a023"
      },
      "source": [
        "n=int(input(\"Nhập số:\"))\n",
        "for i in range(1,11):\n",
        "  print(n,\"x\",i,\"=\",n*i)"
      ],
      "execution_count": 22,
      "outputs": [
        {
          "output_type": "stream",
          "name": "stdout",
          "text": [
            "Nhập số:5\n",
            "5 x 1 = 5\n",
            "5 x 2 = 10\n",
            "5 x 3 = 15\n",
            "5 x 4 = 20\n",
            "5 x 5 = 25\n",
            "5 x 6 = 30\n",
            "5 x 7 = 35\n",
            "5 x 8 = 40\n",
            "5 x 9 = 45\n",
            "5 x 10 = 50\n"
          ]
        }
      ]
    },
    {
      "cell_type": "markdown",
      "metadata": {
        "id": "zoTeGv7a_fks"
      },
      "source": [
        "Exercise 5: Display numbers from a list using loop"
      ]
    },
    {
      "cell_type": "code",
      "metadata": {
        "colab": {
          "base_uri": "https://localhost:8080/"
        },
        "id": "z0aIbOe-1anq",
        "outputId": "3d3a351f-6f7c-4381-8eaf-378b3683e3a8"
      },
      "source": [
        "lst=[1,2,3,4,5,6]\n",
        "for a in lst:\n",
        "  print(a)"
      ],
      "execution_count": 40,
      "outputs": [
        {
          "output_type": "stream",
          "name": "stdout",
          "text": [
            "1\n",
            "2\n",
            "3\n",
            "4\n",
            "5\n",
            "6\n"
          ]
        }
      ]
    },
    {
      "cell_type": "markdown",
      "metadata": {
        "id": "dLGG4mnpB_jy"
      },
      "source": [
        "Exercise 6: Count the total number of digits in a number"
      ]
    },
    {
      "cell_type": "code",
      "metadata": {
        "colab": {
          "base_uri": "https://localhost:8080/"
        },
        "id": "-Lpu9lVMCKJ-",
        "outputId": "e6f5b243-2c02-492d-fafd-68cc9a9bf894"
      },
      "source": [
        "n=float(input(\"Nhập số cần đếm:\"))\n",
        "i=str(n)\n",
        "a=0\n",
        "while a<(len(i)-2):\n",
        "  a+=1\n",
        "print(\"Tổng chữ số là:\",a)"
      ],
      "execution_count": 50,
      "outputs": [
        {
          "output_type": "stream",
          "name": "stdout",
          "text": [
            "Nhập số cần đếm:12345\n",
            "Tổng chữ số là: 5\n"
          ]
        }
      ]
    },
    {
      "cell_type": "markdown",
      "metadata": {
        "id": "KLRjiUgBC7al"
      },
      "source": [
        "Exercise 7: Print list in reverse order using a loop"
      ]
    },
    {
      "cell_type": "code",
      "metadata": {
        "colab": {
          "base_uri": "https://localhost:8080/"
        },
        "id": "92YE6JgbC97e",
        "outputId": "debc3a00-ea80-4870-f4ba-64fc18ba8d67"
      },
      "source": [
        "lst=[1,2,3,4,5]\n",
        "lst2=[]\n",
        "for i in reversed(lst):\n",
        "  lst2.append(i)\n",
        "print(lst2)"
      ],
      "execution_count": 56,
      "outputs": [
        {
          "output_type": "stream",
          "name": "stdout",
          "text": [
            "[5, 4, 3, 2, 1]\n"
          ]
        }
      ]
    },
    {
      "cell_type": "markdown",
      "metadata": {
        "id": "Iv9IULdhL6yy"
      },
      "source": [
        "Exercise 8: Display numbers from -10 to -1 using for loop"
      ]
    },
    {
      "cell_type": "code",
      "metadata": {
        "colab": {
          "base_uri": "https://localhost:8080/"
        },
        "id": "5Bo6FrQaL9jQ",
        "outputId": "b82ef3a8-a296-41e3-c4ff-14085207ba95"
      },
      "source": [
        "for i in range(-10,0,1):\n",
        "  print(i)"
      ],
      "execution_count": 64,
      "outputs": [
        {
          "output_type": "stream",
          "name": "stdout",
          "text": [
            "-10\n",
            "-9\n",
            "-8\n",
            "-7\n",
            "-6\n",
            "-5\n",
            "-4\n",
            "-3\n",
            "-2\n",
            "-1\n"
          ]
        }
      ]
    },
    {
      "cell_type": "markdown",
      "metadata": {
        "id": "YUVZlyduMMGx"
      },
      "source": [
        "Exercise 9: Use else block to display a message “Done” after successful execution of for loop"
      ]
    },
    {
      "cell_type": "code",
      "metadata": {
        "colab": {
          "base_uri": "https://localhost:8080/"
        },
        "id": "i6guMjhkMf5h",
        "outputId": "1d88bd2f-0eb4-498d-ec90-a023af58e8d9"
      },
      "source": [
        "i=0\n",
        "while i<=5:\n",
        "  print(i)\n",
        "  i+=1\n",
        "else:\n",
        "  print(\"Done\")"
      ],
      "execution_count": 76,
      "outputs": [
        {
          "output_type": "stream",
          "name": "stdout",
          "text": [
            "0\n",
            "1\n",
            "2\n",
            "3\n",
            "4\n",
            "5\n",
            "Done\n"
          ]
        }
      ]
    },
    {
      "cell_type": "markdown",
      "metadata": {
        "id": "qk6kZWhrMgAE"
      },
      "source": [
        "Exercise 10: Write a program to display all prime numbers within a range"
      ]
    },
    {
      "cell_type": "code",
      "metadata": {
        "colab": {
          "base_uri": "https://localhost:8080/"
        },
        "id": "wWG77YzjMjCh",
        "outputId": "ea02c266-7c56-4ecd-cd49-95f3d2de2341"
      },
      "source": [
        "a=int(input(\"Nhập số đầu của phạm vi:\"))\n",
        "b=int(input(\"Nhập giới hạn của phạm vi:\"))\n",
        "for num in range(a,b + 1):  \n",
        "   if num > 1:  \n",
        "       for i in range(2,num):  \n",
        "           if (num % i) == 0:  \n",
        "               break  \n",
        "       else:  \n",
        "           print(num,end=\" \")\n"
      ],
      "execution_count": 75,
      "outputs": [
        {
          "output_type": "stream",
          "name": "stdout",
          "text": [
            "Nhập số đầu của phạm vi:1\n",
            "Nhập giới hạn của phạm vi:5\n",
            "2 3 5 "
          ]
        }
      ]
    },
    {
      "cell_type": "markdown",
      "metadata": {
        "id": "B-ys1FFmZeyX"
      },
      "source": [
        "Exercise 11: Display Fibonacci series up to 10 terms"
      ]
    },
    {
      "cell_type": "code",
      "metadata": {
        "colab": {
          "base_uri": "https://localhost:8080/"
        },
        "id": "8oridMvYZh7F",
        "outputId": "3cb737cc-4f39-4c5f-e0e6-192b91be0747"
      },
      "source": [
        "terms = 10\n",
        "n1, n2 = 0, 1\n",
        "dem = 0\n",
        "print(\"Fibonacci:\")\n",
        "while dem < nterms:\n",
        "  print(n1,end=\" \")\n",
        "  n3 = n1 + n2\n",
        "  n1 = n2\n",
        "  n2 = n3\n",
        "  dem += 1\n",
        "    "
      ],
      "execution_count": 88,
      "outputs": [
        {
          "output_type": "stream",
          "name": "stdout",
          "text": [
            "Fibonacci:\n",
            "0 1 1 2 3 5 8 13 21 34 "
          ]
        }
      ]
    },
    {
      "cell_type": "markdown",
      "metadata": {
        "id": "buoXNvMwfzTZ"
      },
      "source": [
        "Exercise 12: Find the factorial of a given number"
      ]
    },
    {
      "cell_type": "code",
      "metadata": {
        "colab": {
          "base_uri": "https://localhost:8080/"
        },
        "id": "KGWp7PrEf2nO",
        "outputId": "b00f6f6e-08a1-4fc5-a4f7-fce7c36f9d8d"
      },
      "source": [
        "number = int(input(\"Mời nhập số: \"))\n",
        "giaithua= 1\n",
        "if number < 0:\n",
        "   print(\"Số\",number,\"Không có giai thừa\")\n",
        "elif number == 0:\n",
        "   print(\"Giai thừa của\",number,\"là 0\")\n",
        "else:\n",
        "   for i in range(1,number + 1):\n",
        "    giaithua = giaithua*i\n",
        "   print(\"Giai thừa của\",number,\"là\",giaithua)\n"
      ],
      "execution_count": 97,
      "outputs": [
        {
          "output_type": "stream",
          "name": "stdout",
          "text": [
            "Mời nhập số: 5\n",
            "Giai thừa của 5 là 120\n"
          ]
        }
      ]
    },
    {
      "cell_type": "markdown",
      "metadata": {
        "id": "B22iQYnIhNN_"
      },
      "source": [
        "Exercise 13: Reverse a given integer number"
      ]
    },
    {
      "cell_type": "code",
      "metadata": {
        "colab": {
          "base_uri": "https://localhost:8080/"
        },
        "id": "7WFPuMf7hPaX",
        "outputId": "bddfb398-542a-49e5-984a-c38d03180917"
      },
      "source": [
        "n=int(input(\"Mời nhập số:\"))\n",
        "k=0\n",
        "while n != 0:\n",
        "  m = n % 10\n",
        "  k =  k* 10 + m\n",
        "  n //= 10\n",
        "print(\"Số đảo ngược là: \",k)"
      ],
      "execution_count": 103,
      "outputs": [
        {
          "output_type": "stream",
          "name": "stdout",
          "text": [
            "Mời nhập số:12345\n",
            "Số đảo ngược là:  54321\n"
          ]
        }
      ]
    },
    {
      "cell_type": "markdown",
      "metadata": {
        "id": "jwl2_a5pikjX"
      },
      "source": [
        "Exercise 14: Use a loop to display elements from a given list present at odd index positions"
      ]
    },
    {
      "cell_type": "code",
      "metadata": {
        "colab": {
          "base_uri": "https://localhost:8080/"
        },
        "id": "aV2EqLZgirWu",
        "outputId": "6a776b74-02bf-4722-9fa5-61ee98fc8ab5"
      },
      "source": [
        "lst=[1,2,3,4,5,6,7,8]\n",
        "for a in lst:\n",
        "  if a%2==1:\n",
        "    print(a)"
      ],
      "execution_count": 104,
      "outputs": [
        {
          "output_type": "stream",
          "name": "stdout",
          "text": [
            "1\n",
            "3\n",
            "5\n",
            "7\n"
          ]
        }
      ]
    },
    {
      "cell_type": "markdown",
      "metadata": {
        "id": "4Os1ml07jWH4"
      },
      "source": [
        "Exercise 15: Calculate the cube of all numbers from 1 to a given number"
      ]
    },
    {
      "cell_type": "code",
      "metadata": {
        "colab": {
          "base_uri": "https://localhost:8080/"
        },
        "id": "q-51DAoEjWtI",
        "outputId": "16321d1f-a9d9-4316-dfaa-49e00857f207"
      },
      "source": [
        "n=int(input(\"Nhập giới hạn cần tính:\"))\n",
        "for i in range(1,n+1):\n",
        "  cube=i*i*i\n",
        "print(\"Lập phương từ 1 đến\",n,\"là:\",cube)"
      ],
      "execution_count": 108,
      "outputs": [
        {
          "output_type": "stream",
          "name": "stdout",
          "text": [
            "Nhập giới hạn cần tính:4\n",
            "Lập phương từ 1 đến 4 là: 64\n"
          ]
        }
      ]
    }
  ]
}