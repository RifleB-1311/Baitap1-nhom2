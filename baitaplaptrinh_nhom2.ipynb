{
  "nbformat": 4,
  "nbformat_minor": 0,
  "metadata": {
    "colab": {
      "name": "baitaplaptrinh-nhom2.ipynb",
      "provenance": [],
      "authorship_tag": "ABX9TyPyJ6NH/0zXIQ0nENko0fiU",
      "include_colab_link": true
    },
    "kernelspec": {
      "name": "python3",
      "display_name": "Python 3"
    },
    "language_info": {
      "name": "python"
    }
  },
  "cells": [
    {
      "cell_type": "markdown",
      "metadata": {
        "id": "view-in-github",
        "colab_type": "text"
      },
      "source": [
        "<a href=\"https://colab.research.google.com/github/RifleB-1311/Baitap1-nhom2/blob/main/baitaplaptrinh_nhom2.ipynb\" target=\"_parent\"><img src=\"https://colab.research.google.com/assets/colab-badge.svg\" alt=\"Open In Colab\"/></a>"
      ]
    },
    {
      "cell_type": "markdown",
      "metadata": {
        "id": "-9KxiJQv7Cl0"
      },
      "source": [
        "Bài 1: Lập trình nhập vào từ bàn phím 2 số nguyên và tính:\n",
        "\n",
        "1.1:Tổng của 2 số\n",
        "\n",
        "1.2:Tích của 2 số\n",
        "\n",
        "1.3:Hiệu của 2 số\n",
        "\n",
        "1.4:Phép chia lấy phần dư của 2 số\n",
        "\n",
        "1.5: Phép chia lấy phần nguyên của 2 số\n",
        "\n",
        "Kết quả xuất ra màn hình"
      ]
    },
    {
      "cell_type": "code",
      "metadata": {
        "colab": {
          "base_uri": "https://localhost:8080/"
        },
        "id": "Df0Ujhvt6icl",
        "outputId": "400100df-5883-49db-e2fe-ed7aba78d820"
      },
      "source": [
        "a=int(input(\"Nhập số đầu tiên:\"))\n",
        "b=int(input(\"Nhập số tiếp theo:\"))\n",
        "#1.1\n",
        "tong=a+b\n",
        "print(\"Tổng của 2 số vừa nhập là:\",tong)\n",
        "#1.2\n",
        "tich=a*b\n",
        "print(\"Tích của 2 số vừa nhập là:\",tich)\n",
        "#1.3\n",
        "hieu1=a-b\n",
        "hieu2=b-a\n",
        "print(\"Hiệu của 2 số vừa cho là\", hieu1,\"nếu số đầu trừ số sau hoặc bằng\", hieu2,\"nếu số sau trừ số đầu\")\n",
        "#1.4\n",
        "chialayphandu1=a%b\n",
        "chialayphandu2=b%a\n",
        "print(\"Phần dư sau khi chia của 2 số là\",chialayphandu1,\"nếu số đầu chia số sau hoặc bằng\",chialayphandu2,\"nếu số sau chia số đầu\")\n",
        "#1.5\n",
        "chialayphannguyen1=a//b\n",
        "chialayphannguyen2=b//a\n",
        "print(\"Phần nguyên sau khi chia củ 2 số là\",chialayphannguyen1,\"nếu số đầu chia số sau hoặc bằng\",chialayphannguyen2,\"nếu số sau chia số đầu\")"
      ],
      "execution_count": 5,
      "outputs": [
        {
          "output_type": "stream",
          "name": "stdout",
          "text": [
            "Nhập số đầu tiên:1\n",
            "Nhập số tiếp theo:2\n",
            "Tổng của 2 số vừa nhập là: 3\n",
            "Tích của 2 số vừa nhập là: 2\n",
            "Hiệu của 2 số vừa cho là -1 nếu số đầu trừ số sau hoặc bằng 1 nếu số sau trừ số đầu\n",
            "Phần dư sau khi chia của 2 số là 1 nếu số đầu chia số sau hoặc bằng 0 nếu số sau chia số đầu\n",
            "Phần nguyên sau khi chia củ 2 số là 0 nếu số đầu chia số sau hoặc bằng 2 nếu số sau chia số đầu\n"
          ]
        }
      ]
    },
    {
      "cell_type": "markdown",
      "metadata": {
        "id": "CpDV0HC69pDV"
      },
      "source": [
        "Bài 2: Lập trình nhập vào từ bàn phím 2 số thực và tính:\n",
        "\n",
        "2.1:Tổng của 2 số\n",
        "\n",
        "2.2:Tích của 2 số\n",
        "\n",
        "2.3:Hiệu của 2 số\n",
        "\n",
        "2.4:Thương của 2 số\n",
        "\n",
        "Kết quả xuất ra màn hình"
      ]
    },
    {
      "cell_type": "code",
      "metadata": {
        "colab": {
          "base_uri": "https://localhost:8080/"
        },
        "id": "on7jPpyb91gE",
        "outputId": "32e52b25-9098-48ea-ff85-6c03c5593418"
      },
      "source": [
        "a=float(input(\"Nhập số thứ nhất:\"))\n",
        "b=float(input(\"Nhập số thứ hai:\"))\n",
        "#2.1:\n",
        "tong=a+b\n",
        "print(\"Tổng của 2 số là :\",tong)\n",
        "\n",
        "#2.2:\n",
        "tich=a*b\n",
        "print(\"Tích của 2 số là:\",tich)\n",
        "\n",
        "#2.3\n",
        "hieu1=a-b\n",
        "hieu2=b-a\n",
        "print(\"Hiệu của 2 số vừa cho là\", hieu1,\"nếu số đầu trừ số sau hoặc bằng\", hieu2,\"nếu số sau trừ số đầu\")\n",
        "\n",
        "#2.4\n",
        "thuong1=a/b\n",
        "thuong2=b/a\n",
        "print(\"Thương của 2 số vừa cho là\",thuong1,\"nếu số thứ 1 chia cho số thứ 2 hoặc bằng\",thuong2,\"nếu số thứ 2 chia cho số 1\")"
      ],
      "execution_count": 7,
      "outputs": [
        {
          "output_type": "stream",
          "name": "stdout",
          "text": [
            "Nhập số thứ nhất:1\n",
            "Nhập số thứ hai:2.5\n",
            "Tổng của 2 số là : 3.5\n",
            "Tích của 2 số là: 2.5\n",
            "Hiệu của 2 số vừa cho là -1.5 nếu số đầu trừ số sau hoặc bằng 1.5 nếu số sau trừ số đầu\n",
            "Thương của 2 số vừa cho là 0.4 nếu số thứ 1 chia cho số thứ 2 hoặc bằng 2.5 nếu số thứ 2 chia cho số 1\n"
          ]
        }
      ]
    },
    {
      "cell_type": "markdown",
      "metadata": {
        "id": "aa1IUwuk-05T"
      },
      "source": [
        "Bài 3: (Sử dụng các hàm toán học) Nhập một số từ bàn phím và tính:\n",
        "\n",
        "3.1:Trị tuyệt đối\n",
        "\n",
        "3.2:Lấy phần nguyên của số\n",
        "\n",
        "3.3:Chuyển đổi thành số thực\n",
        "\n",
        "3.4:(nhập thêm 1 số từ bàn phím) và tính lũy thừa $ x^y $\n",
        "\n",
        "3.5:Tính căn bậc hai\n",
        "\n",
        "Kết quả xuất ra màn hình"
      ]
    },
    {
      "cell_type": "code",
      "metadata": {
        "colab": {
          "base_uri": "https://localhost:8080/"
        },
        "id": "vifWkOIE-_u1",
        "outputId": "e9ed739a-a465-420c-e833-45f1eff3a91e"
      },
      "source": [
        "import math\n",
        "a=float(input(\"Nhập số:\"))\n",
        "#3.1\n",
        "ttd=abs(a)\n",
        "print(\"Trị tuyết đối của\",a,\"là\",ttd)\n",
        "\n",
        "#3.2\n",
        "phannguyen= round(a)\n",
        "if phannguyen<0 and phannguyen<a:\n",
        "  phannguyen=phannguyen+1\n",
        "  print(\"Phần nguyên của\",a,\"là:\",phannguyen)\n",
        "else:\n",
        "  print(\"Phần nguyên của\",a,\"là:\",phannguyen)\n",
        "\n",
        "#3.3\n",
        "if a==int(a):\n",
        "  print(\"Số thực của\",int(a),\"là\",a)\n",
        "  a=float(a)\n",
        "else:\n",
        "  print(\"Đã là số thực\")\n",
        "\n",
        "#3.4\n",
        "b=float(input(\"Nhập số thứ 2:\"))\n",
        "luythua= a**b\n",
        "print(\"Lũy thừa là:\",luythua)\n",
        "\n",
        "#3.5\n",
        "if a<0:\n",
        "  print(\"Số này không có căn bậc 2\")\n",
        "elif a==0:\n",
        "  print(\"Căn bậc 2 bằng 0\")\n",
        "else:\n",
        "  canbac2= math.sqrt(a)\n",
        "  print(\"Căn bậc 2 của\",a,\"là\",canbac2)"
      ],
      "execution_count": 39,
      "outputs": [
        {
          "output_type": "stream",
          "name": "stdout",
          "text": [
            "Nhập số:-3.5\n",
            "Trị tuyết đối của -3.5 là 3.5\n",
            "Phần nguyên của -3.5 là: -3\n",
            "Đã là số thực\n",
            "Nhập số thứ 2:2\n",
            "Lũy thừa là: 12.25\n",
            "Số này không có căn bậc 2\n"
          ]
        }
      ]
    },
    {
      "cell_type": "markdown",
      "metadata": {
        "id": "il2pbwSNDBpK"
      },
      "source": [
        "Bài 4: Nhập 2 số từ bàn phím và thực hiện các phép so sánh sau giữa 2 số:\n",
        "\n",
        "4.1: >=\n",
        "\n",
        "4.2: <=\n",
        "\n",
        "4.3: >\n",
        "\n",
        "4.4: <\n",
        "\n",
        "4.5: #"
      ]
    },
    {
      "cell_type": "code",
      "metadata": {
        "colab": {
          "base_uri": "https://localhost:8080/"
        },
        "id": "RXOetejdBTCr",
        "outputId": "e65fc0b5-489e-4ae6-ccee-35e935cc0d48"
      },
      "source": [
        "a=float(input(\"Nhập số thứ 1:\"))\n",
        "b=float(input(\"Nhập số thứ 2:\"))\n",
        "print(\"a>=b:\",a>=b)\n",
        "print(\"a<=b:\",a<=b)\n",
        "print(\"a>b:\",a>b)\n",
        "print(\"a<b:\",a<b)\n",
        "print(\"a!=b:\",a!=b)\n"
      ],
      "execution_count": 45,
      "outputs": [
        {
          "output_type": "stream",
          "name": "stdout",
          "text": [
            "Nhập số thứ 1:1\n",
            "Nhập số thứ 2:2\n",
            "a>=b: False\n",
            "a<=b: True\n",
            "a>b: False\n",
            "a<b: True\n",
            "a!=b: True\n"
          ]
        }
      ]
    },
    {
      "cell_type": "markdown",
      "metadata": {
        "id": "1-YLgK-nFHaj"
      },
      "source": [
        "Bài 5: Nhập 1 chuỗi ký tự từ bàn phím:\n",
        "\n",
        "5.1:Chuyển thành chuỗi in hoa\n",
        "\n",
        "5.2:Chuyển thành chuỗi in thường\n",
        "\n",
        "Kết quả xuất ra màn hình"
      ]
    },
    {
      "cell_type": "code",
      "metadata": {
        "colab": {
          "base_uri": "https://localhost:8080/"
        },
        "id": "hebt0Sf4FtBa",
        "outputId": "61cf964b-021a-4c50-a3d0-faaf97da1af3"
      },
      "source": [
        "a=input(\"Mời nhập chuỗi:\")\n",
        "\n",
        "#5.1:\n",
        "print(a.upper())"
      ],
      "execution_count": 37,
      "outputs": [
        {
          "output_type": "stream",
          "name": "stdout",
          "text": [
            "Mời nhập chuỗi:bách\n",
            "BÁCH\n"
          ]
        }
      ]
    },
    {
      "cell_type": "code",
      "metadata": {
        "colab": {
          "base_uri": "https://localhost:8080/"
        },
        "id": "WOcaJukpGHKU",
        "outputId": "28bc4906-6abf-4b41-8ad9-b25a98e66a08"
      },
      "source": [
        "a=input(\"Mời nhập chuỗi:\")\n",
        "\n",
        "#5.2:\n",
        "print(a.lower())"
      ],
      "execution_count": 38,
      "outputs": [
        {
          "output_type": "stream",
          "name": "stdout",
          "text": [
            "Mời nhập chuỗi:BÁCH\n",
            "bách\n"
          ]
        }
      ]
    },
    {
      "cell_type": "markdown",
      "metadata": {
        "id": "htVs6d2oGpJS"
      },
      "source": [
        "Bài 6: Xuất ra màn hình 1 chuỗi ký từ nằm trên nhiều hàng (có thể là 1 bài thơ tùy ý bạn lựa chọn)"
      ]
    },
    {
      "cell_type": "code",
      "metadata": {
        "colab": {
          "base_uri": "https://localhost:8080/"
        },
        "id": "cAWWdTEkGrjC",
        "outputId": "37ee039d-1501-4df2-9ce2-927377b35d53"
      },
      "source": [
        "print(\"Con cò bé bé\\nNó đậu cành tre\\nĐi không hỏi mẹ\\nBiết đi đường nào\")"
      ],
      "execution_count": 42,
      "outputs": [
        {
          "output_type": "stream",
          "name": "stdout",
          "text": [
            "Con cò bé bé\n",
            "Nó đậu cành tre\n",
            "Đi không hỏi mẹ\n",
            "Biết đi đường nào\n"
          ]
        }
      ]
    }
  ]
}