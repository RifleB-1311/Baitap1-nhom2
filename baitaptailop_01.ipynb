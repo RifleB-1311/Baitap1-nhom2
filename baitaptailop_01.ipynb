{
  "nbformat": 4,
  "nbformat_minor": 0,
  "metadata": {
    "colab": {
      "name": "baitaptailop-01.ipynb",
      "provenance": [],
      "authorship_tag": "ABX9TyN84GrWn4hheLLmmdy9IIqE",
      "include_colab_link": true
    },
    "kernelspec": {
      "name": "python3",
      "display_name": "Python 3"
    },
    "language_info": {
      "name": "python"
    }
  },
  "cells": [
    {
      "cell_type": "markdown",
      "metadata": {
        "id": "view-in-github",
        "colab_type": "text"
      },
      "source": [
        "<a href=\"https://colab.research.google.com/github/RifleB-1311/Baitap1-nhom2/blob/main/baitaptailop_01.ipynb\" target=\"_parent\"><img src=\"https://colab.research.google.com/assets/colab-badge.svg\" alt=\"Open In Colab\"/></a>"
      ]
    },
    {
      "cell_type": "markdown",
      "metadata": {
        "id": "XwiT5gO-zrr9"
      },
      "source": [
        "Slide 52"
      ]
    },
    {
      "cell_type": "code",
      "metadata": {
        "colab": {
          "base_uri": "https://localhost:8080/"
        },
        "id": "HCnldKGAvENO",
        "outputId": "25cfd200-bb6a-4dd7-e2a2-10bbb4f3c023"
      },
      "source": [
        "a= int(input(\"Nhập số tiền vay:\"))\n",
        "b= float(input(\"Nhập lãi suất hàng tháng:\"))\n",
        "c= int(input(\"Nhập số năm:\"))\n",
        "d= (a*b)/(1-(1/((1+b)**(c*12))))\n",
        "print(\"Số tiền phải trả hàng tháng là\",d,\"nghìn đồng\")"
      ],
      "execution_count": 31,
      "outputs": [
        {
          "output_type": "stream",
          "name": "stdout",
          "text": [
            "Nhập số tiền vay:5000000\n",
            "Nhập lãi suất hàng tháng:0.1\n",
            "Nhập số năm:2\n",
            "Số tiền phải trả hàng tháng là 556498.881753439 nghìn đồng\n"
          ]
        }
      ]
    },
    {
      "cell_type": "markdown",
      "metadata": {
        "id": "ROGxF2VD0Z3k"
      },
      "source": [
        "Slide 53"
      ]
    },
    {
      "cell_type": "code",
      "metadata": {
        "colab": {
          "base_uri": "https://localhost:8080/"
        },
        "id": "dXmgLTmQzqZl",
        "outputId": "1bb49deb-04a4-4e06-80fc-4cd7f1981d3b"
      },
      "source": [
        "import math\n",
        "x1=float(input(\"Nhập tọa độ x1:\"))\n",
        "x2=float(input(\"Nhập tọa độ x2:\"))\n",
        "y1=float(input(\"Nhập tọa độ y1:\"))\n",
        "y2=float(input(\"Nhập tọa độ y2:\"))\n",
        "khoangcach= math.sqrt(((x2-x1)**2)+((y2-y1)**2))\n",
        "print(\"Khoảng cách giữa điểm x(\",x1,\",\",x2,\") và y(\",y1,\",\",y2,\") là: \",khoangcach)"
      ],
      "execution_count": 29,
      "outputs": [
        {
          "output_type": "stream",
          "name": "stdout",
          "text": [
            "Nhập tọa độ x1:1\n",
            "Nhập tọa độ x2:2\n",
            "Nhập tọa độ y1:3\n",
            "Nhập tọa độ y2:4\n",
            "Khoảng cách giữa điểm x( 1.0 , 2.0 ) và y( 3.0 , 4.0 ) là:  1.4142135623730951\n"
          ]
        }
      ]
    }
  ]
}